{
  "nbformat": 4,
  "nbformat_minor": 0,
  "metadata": {
    "colab": {
      "provenance": [],
      "authorship_tag": "ABX9TyOZ/DKlLNo6hVdCcyPLj4v1"
    },
    "kernelspec": {
      "name": "python3",
      "display_name": "Python 3"
    },
    "language_info": {
      "name": "python"
    }
  },
  "cells": [
    {
      "cell_type": "markdown",
      "source": [
        "# **Machine Learning and Text Classification BBC Texts**"
      ],
      "metadata": {
        "id": "znhrADYNBHMD"
      }
    },
    {
      "cell_type": "markdown",
      "source": [
        "Source: https://www.kaggle.com/datasets/hgultekin/bbcnewsarchive"
      ],
      "metadata": {
        "id": "bPedMluvQx9L"
      }
    },
    {
      "cell_type": "code",
      "execution_count": null,
      "metadata": {
        "id": "vQ5frGBx_vIK",
        "colab": {
          "base_uri": "https://localhost:8080/"
        },
        "outputId": "463afc82-b8a3-44db-e031-df844e3570bb"
      },
      "outputs": [
        {
          "output_type": "stream",
          "name": "stdout",
          "text": [
            "Downloading...\n",
            "From: https://drive.google.com/uc?id=16Snlvv5JeBpIU58EVQAJ7BVakEMYhbU5\n",
            "To: /content/bbc-news-data.csv\n",
            "\r  0% 0.00/5.08M [00:00<?, ?B/s]\r 93% 4.72M/5.08M [00:00<00:00, 47.2MB/s]\r100% 5.08M/5.08M [00:00<00:00, 45.3MB/s]\n"
          ]
        }
      ],
      "source": [
        "!gdown 16Snlvv5JeBpIU58EVQAJ7BVakEMYhbU5"
      ]
    },
    {
      "cell_type": "code",
      "source": [
        "import pandas as pd"
      ],
      "metadata": {
        "id": "gKU7W5j4I29Z"
      },
      "execution_count": null,
      "outputs": []
    },
    {
      "cell_type": "code",
      "source": [
        "from sklearn.preprocessing import LabelBinarizer, LabelEncoder\n",
        "from sklearn.metrics import accuracy_score,f1_score\n",
        "from sklearn.feature_extraction.text import CountVectorizer\n",
        "import torch\n",
        "import torch.nn as nn\n",
        "import torch.nn.functional as F\n",
        "import torch.optim as optim"
      ],
      "metadata": {
        "id": "G6IUXlq6LV1H"
      },
      "execution_count": null,
      "outputs": []
    },
    {
      "cell_type": "code",
      "source": [
        "data = pd.read_csv(\"/content/bbc-news-data.csv\", encoding=\"utf-8\", sep='\\t')\n"
      ],
      "metadata": {
        "id": "CDom-lHwIShs"
      },
      "execution_count": null,
      "outputs": []
    },
    {
      "cell_type": "code",
      "source": [
        "len(data.index)"
      ],
      "metadata": {
        "colab": {
          "base_uri": "https://localhost:8080/"
        },
        "id": "ZatjSfbAnRol",
        "outputId": "855ff353-10c4-4a80-c386-7190fffea811"
      },
      "execution_count": null,
      "outputs": [
        {
          "output_type": "execute_result",
          "data": {
            "text/plain": [
              "2225"
            ]
          },
          "metadata": {},
          "execution_count": 5
        }
      ]
    },
    {
      "cell_type": "code",
      "source": [
        "data['totalwords'] = data['content'].str.split().str.len()"
      ],
      "metadata": {
        "id": "hXBTq5yon04f"
      },
      "execution_count": null,
      "outputs": []
    },
    {
      "cell_type": "code",
      "source": [
        "data.head()"
      ],
      "metadata": {
        "colab": {
          "base_uri": "https://localhost:8080/",
          "height": 206
        },
        "id": "Gha47W91KUxt",
        "outputId": "8ed015d7-6b92-462b-c084-4f5040fbcffb"
      },
      "execution_count": null,
      "outputs": [
        {
          "output_type": "execute_result",
          "data": {
            "text/plain": [
              "   category filename                              title  \\\n",
              "0  business  001.txt  Ad sales boost Time Warner profit   \n",
              "1  business  002.txt   Dollar gains on Greenspan speech   \n",
              "2  business  003.txt  Yukos unit buyer faces loan claim   \n",
              "3  business  004.txt  High fuel prices hit BA's profits   \n",
              "4  business  005.txt  Pernod takeover talk lifts Domecq   \n",
              "\n",
              "                                             content  totalwords  \n",
              "0   Quarterly profits at US media giant TimeWarne...         415  \n",
              "1   The dollar has hit its highest level against ...         379  \n",
              "2   The owners of embattled Russian oil giant Yuk...         258  \n",
              "3   British Airways has blamed high fuel prices f...         400  \n",
              "4   Shares in UK drinks and food firm Allied Dome...         260  "
            ],
            "text/html": [
              "\n",
              "  <div id=\"df-392950bb-4fa6-4a69-bd91-82b90029c268\" class=\"colab-df-container\">\n",
              "    <div>\n",
              "<style scoped>\n",
              "    .dataframe tbody tr th:only-of-type {\n",
              "        vertical-align: middle;\n",
              "    }\n",
              "\n",
              "    .dataframe tbody tr th {\n",
              "        vertical-align: top;\n",
              "    }\n",
              "\n",
              "    .dataframe thead th {\n",
              "        text-align: right;\n",
              "    }\n",
              "</style>\n",
              "<table border=\"1\" class=\"dataframe\">\n",
              "  <thead>\n",
              "    <tr style=\"text-align: right;\">\n",
              "      <th></th>\n",
              "      <th>category</th>\n",
              "      <th>filename</th>\n",
              "      <th>title</th>\n",
              "      <th>content</th>\n",
              "      <th>totalwords</th>\n",
              "    </tr>\n",
              "  </thead>\n",
              "  <tbody>\n",
              "    <tr>\n",
              "      <th>0</th>\n",
              "      <td>business</td>\n",
              "      <td>001.txt</td>\n",
              "      <td>Ad sales boost Time Warner profit</td>\n",
              "      <td>Quarterly profits at US media giant TimeWarne...</td>\n",
              "      <td>415</td>\n",
              "    </tr>\n",
              "    <tr>\n",
              "      <th>1</th>\n",
              "      <td>business</td>\n",
              "      <td>002.txt</td>\n",
              "      <td>Dollar gains on Greenspan speech</td>\n",
              "      <td>The dollar has hit its highest level against ...</td>\n",
              "      <td>379</td>\n",
              "    </tr>\n",
              "    <tr>\n",
              "      <th>2</th>\n",
              "      <td>business</td>\n",
              "      <td>003.txt</td>\n",
              "      <td>Yukos unit buyer faces loan claim</td>\n",
              "      <td>The owners of embattled Russian oil giant Yuk...</td>\n",
              "      <td>258</td>\n",
              "    </tr>\n",
              "    <tr>\n",
              "      <th>3</th>\n",
              "      <td>business</td>\n",
              "      <td>004.txt</td>\n",
              "      <td>High fuel prices hit BA's profits</td>\n",
              "      <td>British Airways has blamed high fuel prices f...</td>\n",
              "      <td>400</td>\n",
              "    </tr>\n",
              "    <tr>\n",
              "      <th>4</th>\n",
              "      <td>business</td>\n",
              "      <td>005.txt</td>\n",
              "      <td>Pernod takeover talk lifts Domecq</td>\n",
              "      <td>Shares in UK drinks and food firm Allied Dome...</td>\n",
              "      <td>260</td>\n",
              "    </tr>\n",
              "  </tbody>\n",
              "</table>\n",
              "</div>\n",
              "    <div class=\"colab-df-buttons\">\n",
              "\n",
              "  <div class=\"colab-df-container\">\n",
              "    <button class=\"colab-df-convert\" onclick=\"convertToInteractive('df-392950bb-4fa6-4a69-bd91-82b90029c268')\"\n",
              "            title=\"Convert this dataframe to an interactive table.\"\n",
              "            style=\"display:none;\">\n",
              "\n",
              "  <svg xmlns=\"http://www.w3.org/2000/svg\" height=\"24px\" viewBox=\"0 -960 960 960\">\n",
              "    <path d=\"M120-120v-720h720v720H120Zm60-500h600v-160H180v160Zm220 220h160v-160H400v160Zm0 220h160v-160H400v160ZM180-400h160v-160H180v160Zm440 0h160v-160H620v160ZM180-180h160v-160H180v160Zm440 0h160v-160H620v160Z\"/>\n",
              "  </svg>\n",
              "    </button>\n",
              "\n",
              "  <style>\n",
              "    .colab-df-container {\n",
              "      display:flex;\n",
              "      gap: 12px;\n",
              "    }\n",
              "\n",
              "    .colab-df-convert {\n",
              "      background-color: #E8F0FE;\n",
              "      border: none;\n",
              "      border-radius: 50%;\n",
              "      cursor: pointer;\n",
              "      display: none;\n",
              "      fill: #1967D2;\n",
              "      height: 32px;\n",
              "      padding: 0 0 0 0;\n",
              "      width: 32px;\n",
              "    }\n",
              "\n",
              "    .colab-df-convert:hover {\n",
              "      background-color: #E2EBFA;\n",
              "      box-shadow: 0px 1px 2px rgba(60, 64, 67, 0.3), 0px 1px 3px 1px rgba(60, 64, 67, 0.15);\n",
              "      fill: #174EA6;\n",
              "    }\n",
              "\n",
              "    .colab-df-buttons div {\n",
              "      margin-bottom: 4px;\n",
              "    }\n",
              "\n",
              "    [theme=dark] .colab-df-convert {\n",
              "      background-color: #3B4455;\n",
              "      fill: #D2E3FC;\n",
              "    }\n",
              "\n",
              "    [theme=dark] .colab-df-convert:hover {\n",
              "      background-color: #434B5C;\n",
              "      box-shadow: 0px 1px 3px 1px rgba(0, 0, 0, 0.15);\n",
              "      filter: drop-shadow(0px 1px 2px rgba(0, 0, 0, 0.3));\n",
              "      fill: #FFFFFF;\n",
              "    }\n",
              "  </style>\n",
              "\n",
              "    <script>\n",
              "      const buttonEl =\n",
              "        document.querySelector('#df-392950bb-4fa6-4a69-bd91-82b90029c268 button.colab-df-convert');\n",
              "      buttonEl.style.display =\n",
              "        google.colab.kernel.accessAllowed ? 'block' : 'none';\n",
              "\n",
              "      async function convertToInteractive(key) {\n",
              "        const element = document.querySelector('#df-392950bb-4fa6-4a69-bd91-82b90029c268');\n",
              "        const dataTable =\n",
              "          await google.colab.kernel.invokeFunction('convertToInteractive',\n",
              "                                                    [key], {});\n",
              "        if (!dataTable) return;\n",
              "\n",
              "        const docLinkHtml = 'Like what you see? Visit the ' +\n",
              "          '<a target=\"_blank\" href=https://colab.research.google.com/notebooks/data_table.ipynb>data table notebook</a>'\n",
              "          + ' to learn more about interactive tables.';\n",
              "        element.innerHTML = '';\n",
              "        dataTable['output_type'] = 'display_data';\n",
              "        await google.colab.output.renderOutput(dataTable, element);\n",
              "        const docLink = document.createElement('div');\n",
              "        docLink.innerHTML = docLinkHtml;\n",
              "        element.appendChild(docLink);\n",
              "      }\n",
              "    </script>\n",
              "  </div>\n",
              "\n",
              "\n",
              "<div id=\"df-8356aa01-38b7-448d-aeea-c66a5844070c\">\n",
              "  <button class=\"colab-df-quickchart\" onclick=\"quickchart('df-8356aa01-38b7-448d-aeea-c66a5844070c')\"\n",
              "            title=\"Suggest charts\"\n",
              "            style=\"display:none;\">\n",
              "\n",
              "<svg xmlns=\"http://www.w3.org/2000/svg\" height=\"24px\"viewBox=\"0 0 24 24\"\n",
              "     width=\"24px\">\n",
              "    <g>\n",
              "        <path d=\"M19 3H5c-1.1 0-2 .9-2 2v14c0 1.1.9 2 2 2h14c1.1 0 2-.9 2-2V5c0-1.1-.9-2-2-2zM9 17H7v-7h2v7zm4 0h-2V7h2v10zm4 0h-2v-4h2v4z\"/>\n",
              "    </g>\n",
              "</svg>\n",
              "  </button>\n",
              "\n",
              "<style>\n",
              "  .colab-df-quickchart {\n",
              "      --bg-color: #E8F0FE;\n",
              "      --fill-color: #1967D2;\n",
              "      --hover-bg-color: #E2EBFA;\n",
              "      --hover-fill-color: #174EA6;\n",
              "      --disabled-fill-color: #AAA;\n",
              "      --disabled-bg-color: #DDD;\n",
              "  }\n",
              "\n",
              "  [theme=dark] .colab-df-quickchart {\n",
              "      --bg-color: #3B4455;\n",
              "      --fill-color: #D2E3FC;\n",
              "      --hover-bg-color: #434B5C;\n",
              "      --hover-fill-color: #FFFFFF;\n",
              "      --disabled-bg-color: #3B4455;\n",
              "      --disabled-fill-color: #666;\n",
              "  }\n",
              "\n",
              "  .colab-df-quickchart {\n",
              "    background-color: var(--bg-color);\n",
              "    border: none;\n",
              "    border-radius: 50%;\n",
              "    cursor: pointer;\n",
              "    display: none;\n",
              "    fill: var(--fill-color);\n",
              "    height: 32px;\n",
              "    padding: 0;\n",
              "    width: 32px;\n",
              "  }\n",
              "\n",
              "  .colab-df-quickchart:hover {\n",
              "    background-color: var(--hover-bg-color);\n",
              "    box-shadow: 0 1px 2px rgba(60, 64, 67, 0.3), 0 1px 3px 1px rgba(60, 64, 67, 0.15);\n",
              "    fill: var(--button-hover-fill-color);\n",
              "  }\n",
              "\n",
              "  .colab-df-quickchart-complete:disabled,\n",
              "  .colab-df-quickchart-complete:disabled:hover {\n",
              "    background-color: var(--disabled-bg-color);\n",
              "    fill: var(--disabled-fill-color);\n",
              "    box-shadow: none;\n",
              "  }\n",
              "\n",
              "  .colab-df-spinner {\n",
              "    border: 2px solid var(--fill-color);\n",
              "    border-color: transparent;\n",
              "    border-bottom-color: var(--fill-color);\n",
              "    animation:\n",
              "      spin 1s steps(1) infinite;\n",
              "  }\n",
              "\n",
              "  @keyframes spin {\n",
              "    0% {\n",
              "      border-color: transparent;\n",
              "      border-bottom-color: var(--fill-color);\n",
              "      border-left-color: var(--fill-color);\n",
              "    }\n",
              "    20% {\n",
              "      border-color: transparent;\n",
              "      border-left-color: var(--fill-color);\n",
              "      border-top-color: var(--fill-color);\n",
              "    }\n",
              "    30% {\n",
              "      border-color: transparent;\n",
              "      border-left-color: var(--fill-color);\n",
              "      border-top-color: var(--fill-color);\n",
              "      border-right-color: var(--fill-color);\n",
              "    }\n",
              "    40% {\n",
              "      border-color: transparent;\n",
              "      border-right-color: var(--fill-color);\n",
              "      border-top-color: var(--fill-color);\n",
              "    }\n",
              "    60% {\n",
              "      border-color: transparent;\n",
              "      border-right-color: var(--fill-color);\n",
              "    }\n",
              "    80% {\n",
              "      border-color: transparent;\n",
              "      border-right-color: var(--fill-color);\n",
              "      border-bottom-color: var(--fill-color);\n",
              "    }\n",
              "    90% {\n",
              "      border-color: transparent;\n",
              "      border-bottom-color: var(--fill-color);\n",
              "    }\n",
              "  }\n",
              "</style>\n",
              "\n",
              "  <script>\n",
              "    async function quickchart(key) {\n",
              "      const quickchartButtonEl =\n",
              "        document.querySelector('#' + key + ' button');\n",
              "      quickchartButtonEl.disabled = true;  // To prevent multiple clicks.\n",
              "      quickchartButtonEl.classList.add('colab-df-spinner');\n",
              "      try {\n",
              "        const charts = await google.colab.kernel.invokeFunction(\n",
              "            'suggestCharts', [key], {});\n",
              "      } catch (error) {\n",
              "        console.error('Error during call to suggestCharts:', error);\n",
              "      }\n",
              "      quickchartButtonEl.classList.remove('colab-df-spinner');\n",
              "      quickchartButtonEl.classList.add('colab-df-quickchart-complete');\n",
              "    }\n",
              "    (() => {\n",
              "      let quickchartButtonEl =\n",
              "        document.querySelector('#df-8356aa01-38b7-448d-aeea-c66a5844070c button');\n",
              "      quickchartButtonEl.style.display =\n",
              "        google.colab.kernel.accessAllowed ? 'block' : 'none';\n",
              "    })();\n",
              "  </script>\n",
              "</div>\n",
              "\n",
              "    </div>\n",
              "  </div>\n"
            ],
            "application/vnd.google.colaboratory.intrinsic+json": {
              "type": "dataframe",
              "variable_name": "data",
              "summary": "{\n  \"name\": \"data\",\n  \"rows\": 2225,\n  \"fields\": [\n    {\n      \"column\": \"category\",\n      \"properties\": {\n        \"dtype\": \"category\",\n        \"num_unique_values\": 5,\n        \"samples\": [\n          \"entertainment\",\n          \"tech\",\n          \"politics\"\n        ],\n        \"semantic_type\": \"\",\n        \"description\": \"\"\n      }\n    },\n    {\n      \"column\": \"filename\",\n      \"properties\": {\n        \"dtype\": \"category\",\n        \"num_unique_values\": 511,\n        \"samples\": [\n          \"125.txt\",\n          \"085.txt\",\n          \"434.txt\"\n        ],\n        \"semantic_type\": \"\",\n        \"description\": \"\"\n      }\n    },\n    {\n      \"column\": \"title\",\n      \"properties\": {\n        \"dtype\": \"string\",\n        \"num_unique_values\": 2096,\n        \"samples\": [\n          \"Soaring oil 'hits world economy'\",\n          \"Bollywood DVD fraudster is jailed\",\n          \"Bening makes awards breakthrough\"\n        ],\n        \"semantic_type\": \"\",\n        \"description\": \"\"\n      }\n    },\n    {\n      \"column\": \"content\",\n      \"properties\": {\n        \"dtype\": \"string\",\n        \"num_unique_values\": 2092,\n        \"samples\": [\n          \" Kenya's athletics body has suspended two-time London Marathon runner-up Susan Chepkemei from all competition until the end of the year.  Athletics Kenya (AK) issued the ban after Chepkemei failed to turn up for a cross country training camp in Embu. \\\"We have banned her from all local and international competitions,\\\" said AK chief Isaiah Kiplagat. \\\"We shall communicate this decision to the IAAF and all meet directors all over the world.\\\" The 29-year-old finished second to Paula Radcliffe in the 2002 and 2003 London races, and was also edged out in an epic New York Marathon contest last year.  But the ban will prevent the two-time world half-marathon silver medallist from challenging Radcliffe at this year's London event in April. Global Sports Communications, Chepkemei's management company, said she had wanted to run in the World Cross Country Championships in March. But AK maintained it was making an example of Chepkemei as a warning to other Kenyan athletes. \\\"We are taking this action in order to salvage our pride,\\\" said Kiplagat. \\\"We have been accused of having no teeth to bite with and that agents are ruling over us.\\\" KA has also threatened three-time women's short-course champion Edith Masai with a similar ban if reports that she feigned injury to avoid running at the cross country world championships are true. Masai missed the national trials in early February, but was included in the provisional team on the proviso that she ran in a regional competition. She failed to run in the event, citing a leg injury. \",\n          \" The soaring cost of oil has hit global economic growth, although world's major economies should weather the storm of price rises, according to the OECD.  In its latest bi-annual report, the OECD cut its growth predictions for the world's main industrialised regions. US growth would reach 4.4% in 2004, but fall to 3.3% next year from a previous estimate of 3.7%, the OECD said. However, the Paris-based economics think tank said it believed the global economy could still regain momentum.  Forecasts for Japanese growth were also scaled back to 4.0% from 4.4% this year and 2.1% from 2.8% in 2005. But the outlook was worst for the 12-member eurozone bloc, with already sluggish growth forecasts slipping to 1.8% from 2.0% this year and 1.9% from 2.4% in 2005, the OECD said. Overall, the report forecast total growth of 3.6% in 2004 for the 30 member countries of the OECD, slipping to 2.9% next year before recovering to 3.1% in 2006. \\\"There are nonetheless good reasons to believe that despite recent oil price turbulence the world economy will regain momentum in a not-too-distant future,\\\" said Jean-Philippe Cotis, the OECD's chief economist. The price of crude is about 50% higher than it was at the start of 2004, but down on the record high of $55.67 set in late October.  A dip in oil prices and improving jobs prospects would improve consumer confidence and spending, the OECD said. \\\"The oil shock is not enormous by historical standards - we have seen worse in the seventies. If the oil price does not rise any further, then we think the shock can be absorbed within the next few quarters,\\\" Vincent Koen, a senior economist with the OECD, told the BBC's World Business Report. \\\"The recovery that was underway, and has been interrupted a bit by the oil shock this year, would then regain momentum in the course of 2005.\\\" China's booming economy and a \\\"spectacular comeback\\\" in Japan - albeit one that has faltered in recent months - would help world economic recovery, the OECD said. \\\"Supported by strong balance sheets and high profits, the recovery of business investment should continue in North America and start in earnest in Europe,\\\" it added. However, the report warned: \\\"It remains to be seen whether continental Europe will play a strong supportive role through a marked upswing of final domestic demand.\\\" The OECD highlighted current depressed household expenditure in Germany and the eurozone's over-reliance on export-led growth. \",\n          \" Consumer electronics giants Hitachi and Matshushita Electric are joining forces to share and develop technology for flat screen televisions.  The tie-up comes as the world's top producers are having to contend with falling prices and intense competition. The two Japanese companies will collaborate in research & development, production, marketing and licensing. They said the agreement would enable the two companies to expand the plasma display TV market globally.  Plasma display panels are used for large, thin TVs which are replacing old-style televisions. The display market for high-definition televisions is split between models using plasma display panels and others - manufactured by the likes of Sony and Samsung - using liquid-crystal displays (LCDs). The deal will enable Hitachi and Matsushita, which makes Panasonic brand products, to develop new technology and improve their competitiveness. Hitachi recently announced a deal to buy plasma display technology from rival Fujitsu in an effort to strengthen its presence in the market.  Separately, Fujitsu announced on Monday that it is quitting the LCD panel market by transferring its operations in the area to Japanese manufacturer Sharp. Sharp will inherit staff, manufacturing facilities and intellectual property from Fujitsu. The plasma panel market has seen rapid consolidation in recent months as the price of consumer electronic goods and components has fallen. Samsung Electronics and Sony are among other companies working together to reduce costs and speed up new product development. \"\n        ],\n        \"semantic_type\": \"\",\n        \"description\": \"\"\n      }\n    },\n    {\n      \"column\": \"totalwords\",\n      \"properties\": {\n        \"dtype\": \"number\",\n        \"std\": 238,\n        \"min\": 84,\n        \"max\": 4428,\n        \"num_unique_values\": 628,\n        \"samples\": [\n          540,\n          639,\n          1378\n        ],\n        \"semantic_type\": \"\",\n        \"description\": \"\"\n      }\n    }\n  ]\n}"
            }
          },
          "metadata": {},
          "execution_count": 7
        }
      ]
    },
    {
      "cell_type": "code",
      "source": [
        "import plotly.express as px\n",
        "\n",
        "fig = px.histogram(data, x=\"category\", y=\"totalwords\", histfunc=\"avg\")\n",
        "fig.write_html(\"overview_texts_categories.html\")\n",
        "fig.show()"
      ],
      "metadata": {
        "colab": {
          "base_uri": "https://localhost:8080/",
          "height": 542
        },
        "id": "5OWHTpf7n8fZ",
        "outputId": "5394503e-51d4-4dcf-fd5c-d1af73aa368e"
      },
      "execution_count": null,
      "outputs": [
        {
          "output_type": "display_data",
          "data": {
            "text/html": [
              "<html>\n",
              "<head><meta charset=\"utf-8\" /></head>\n",
              "<body>\n",
              "    <div>            <script src=\"https://cdnjs.cloudflare.com/ajax/libs/mathjax/2.7.5/MathJax.js?config=TeX-AMS-MML_SVG\"></script><script type=\"text/javascript\">if (window.MathJax && window.MathJax.Hub && window.MathJax.Hub.Config) {window.MathJax.Hub.Config({SVG: {font: \"STIX-Web\"}});}</script>                <script type=\"text/javascript\">window.PlotlyConfig = {MathJaxConfig: 'local'};</script>\n",
              "        <script charset=\"utf-8\" src=\"https://cdn.plot.ly/plotly-2.24.1.min.js\"></script>                <div id=\"11b392cf-4900-496e-b06b-3d2a28e9787c\" class=\"plotly-graph-div\" style=\"height:525px; width:100%;\"></div>            <script type=\"text/javascript\">                                    window.PLOTLYENV=window.PLOTLYENV || {};                                    if (document.getElementById(\"11b392cf-4900-496e-b06b-3d2a28e9787c\")) {                    Plotly.newPlot(                        \"11b392cf-4900-496e-b06b-3d2a28e9787c\",                        [{\"alignmentgroup\":\"True\",\"bingroup\":\"x\",\"histfunc\":\"avg\",\"hovertemplate\":\"category=%{x}\\u003cbr\\u003eavg of totalwords=%{y}\\u003cextra\\u003e\\u003c\\u002fextra\\u003e\",\"legendgroup\":\"\",\"marker\":{\"color\":\"#636efa\",\"pattern\":{\"shape\":\"\"}},\"name\":\"\",\"offsetgroup\":\"\",\"orientation\":\"v\",\"showlegend\":false,\"x\":[\"business\",\"business\",\"business\",\"business\",\"business\",\"business\",\"business\",\"business\",\"business\",\"business\",\"business\",\"business\",\"business\",\"business\",\"business\",\"business\",\"business\",\"business\",\"business\",\"business\",\"business\",\"business\",\"business\",\"business\",\"business\",\"business\",\"business\",\"business\",\"business\",\"business\",\"business\",\"business\",\"business\",\"business\",\"business\",\"business\",\"business\",\"business\",\"business\",\"business\",\"business\",\"business\",\"business\",\"business\",\"business\",\"business\",\"business\",\"business\",\"business\",\"business\",\"business\",\"business\",\"business\",\"business\",\"business\",\"business\",\"business\",\"business\",\"business\",\"business\",\"business\",\"business\",\"business\",\"business\",\"business\",\"business\",\"business\",\"business\",\"business\",\"business\",\"business\",\"business\",\"business\",\"business\",\"business\",\"business\",\"business\",\"business\",\"business\",\"business\",\"business\",\"business\",\"business\",\"business\",\"business\",\"business\",\"business\",\"business\",\"business\",\"business\",\"business\",\"business\",\"business\",\"business\",\"business\",\"business\",\"business\",\"business\",\"business\",\"business\",\"business\",\"business\",\"business\",\"business\",\"business\",\"business\",\"business\",\"business\",\"business\",\"business\",\"business\",\"business\",\"business\",\"business\",\"business\",\"business\",\"business\",\"business\",\"business\",\"business\",\"business\",\"business\",\"business\",\"business\",\"business\",\"business\",\"business\",\"business\",\"business\",\"business\",\"business\",\"business\",\"business\",\"business\",\"business\",\"business\",\"business\",\"business\",\"business\",\"business\",\"business\",\"business\",\"business\",\"business\",\"business\",\"business\",\"business\",\"business\",\"business\",\"business\",\"business\",\"business\",\"business\",\"business\",\"business\",\"business\",\"business\",\"business\",\"business\",\"business\",\"business\",\"business\",\"business\",\"business\",\"business\",\"business\",\"business\",\"business\",\"business\",\"business\",\"business\",\"business\",\"business\",\"business\",\"business\",\"business\",\"business\",\"business\",\"business\",\"business\",\"business\",\"business\",\"business\",\"business\",\"business\",\"business\",\"business\",\"business\",\"business\",\"business\",\"business\",\"business\",\"business\",\"business\",\"business\",\"business\",\"business\",\"business\",\"business\",\"business\",\"business\",\"business\",\"business\",\"business\",\"business\",\"business\",\"business\",\"business\",\"business\",\"business\",\"business\",\"business\",\"business\",\"business\",\"business\",\"business\",\"business\",\"business\",\"business\",\"business\",\"business\",\"business\",\"business\",\"business\",\"business\",\"business\",\"business\",\"business\",\"business\",\"business\",\"business\",\"business\",\"business\",\"business\",\"business\",\"business\",\"business\",\"business\",\"business\",\"business\",\"business\",\"business\",\"business\",\"business\",\"business\",\"business\",\"business\",\"business\",\"business\",\"business\",\"business\",\"business\",\"business\",\"business\",\"business\",\"business\",\"business\",\"business\",\"business\",\"business\",\"business\",\"business\",\"business\",\"business\",\"business\",\"business\",\"business\",\"business\",\"business\",\"business\",\"business\",\"business\",\"business\",\"business\",\"business\",\"business\",\"business\",\"business\",\"business\",\"business\",\"business\",\"business\",\"business\",\"business\",\"business\",\"business\",\"business\",\"business\",\"business\",\"business\",\"business\",\"business\",\"business\",\"business\",\"business\",\"business\",\"business\",\"business\",\"business\",\"business\",\"business\",\"business\",\"business\",\"business\",\"business\",\"business\",\"business\",\"business\",\"business\",\"business\",\"business\",\"business\",\"business\",\"business\",\"business\",\"business\",\"business\",\"business\",\"business\",\"business\",\"business\",\"business\",\"business\",\"business\",\"business\",\"business\",\"business\",\"business\",\"business\",\"business\",\"business\",\"business\",\"business\",\"business\",\"business\",\"business\",\"business\",\"business\",\"business\",\"business\",\"business\",\"business\",\"business\",\"business\",\"business\",\"business\",\"business\",\"business\",\"business\",\"business\",\"business\",\"business\",\"business\",\"business\",\"business\",\"business\",\"business\",\"business\",\"business\",\"business\",\"business\",\"business\",\"business\",\"business\",\"business\",\"business\",\"business\",\"business\",\"business\",\"business\",\"business\",\"business\",\"business\",\"business\",\"business\",\"business\",\"business\",\"business\",\"business\",\"business\",\"business\",\"business\",\"business\",\"business\",\"business\",\"business\",\"business\",\"business\",\"business\",\"business\",\"business\",\"business\",\"business\",\"business\",\"business\",\"business\",\"business\",\"business\",\"business\",\"business\",\"business\",\"business\",\"business\",\"business\",\"business\",\"business\",\"business\",\"business\",\"business\",\"business\",\"business\",\"business\",\"business\",\"business\",\"business\",\"business\",\"business\",\"business\",\"business\",\"business\",\"business\",\"business\",\"business\",\"business\",\"business\",\"business\",\"business\",\"business\",\"business\",\"business\",\"business\",\"business\",\"business\",\"business\",\"business\",\"business\",\"business\",\"business\",\"business\",\"business\",\"business\",\"business\",\"business\",\"business\",\"business\",\"business\",\"business\",\"business\",\"business\",\"business\",\"business\",\"business\",\"business\",\"business\",\"business\",\"business\",\"business\",\"business\",\"business\",\"business\",\"business\",\"business\",\"business\",\"business\",\"business\",\"business\",\"business\",\"business\",\"business\",\"business\",\"business\",\"business\",\"business\",\"business\",\"business\",\"business\",\"business\",\"business\",\"business\",\"business\",\"business\",\"business\",\"business\",\"business\",\"business\",\"business\",\"business\",\"business\",\"business\",\"business\",\"business\",\"business\",\"business\",\"business\",\"business\",\"business\",\"business\",\"business\",\"business\",\"business\",\"business\",\"business\",\"business\",\"business\",\"business\",\"business\",\"business\",\"business\",\"business\",\"business\",\"entertainment\",\"entertainment\",\"entertainment\",\"entertainment\",\"entertainment\",\"entertainment\",\"entertainment\",\"entertainment\",\"entertainment\",\"entertainment\",\"entertainment\",\"entertainment\",\"entertainment\",\"entertainment\",\"entertainment\",\"entertainment\",\"entertainment\",\"entertainment\",\"entertainment\",\"entertainment\",\"entertainment\",\"entertainment\",\"entertainment\",\"entertainment\",\"entertainment\",\"entertainment\",\"entertainment\",\"entertainment\",\"entertainment\",\"entertainment\",\"entertainment\",\"entertainment\",\"entertainment\",\"entertainment\",\"entertainment\",\"entertainment\",\"entertainment\",\"entertainment\",\"entertainment\",\"entertainment\",\"entertainment\",\"entertainment\",\"entertainment\",\"entertainment\",\"entertainment\",\"entertainment\",\"entertainment\",\"entertainment\",\"entertainment\",\"entertainment\",\"entertainment\",\"entertainment\",\"entertainment\",\"entertainment\",\"entertainment\",\"entertainment\",\"entertainment\",\"entertainment\",\"entertainment\",\"entertainment\",\"entertainment\",\"entertainment\",\"entertainment\",\"entertainment\",\"entertainment\",\"entertainment\",\"entertainment\",\"entertainment\",\"entertainment\",\"entertainment\",\"entertainment\",\"entertainment\",\"entertainment\",\"entertainment\",\"entertainment\",\"entertainment\",\"entertainment\",\"entertainment\",\"entertainment\",\"entertainment\",\"entertainment\",\"entertainment\",\"entertainment\",\"entertainment\",\"entertainment\",\"entertainment\",\"entertainment\",\"entertainment\",\"entertainment\",\"entertainment\",\"entertainment\",\"entertainment\",\"entertainment\",\"entertainment\",\"entertainment\",\"entertainment\",\"entertainment\",\"entertainment\",\"entertainment\",\"entertainment\",\"entertainment\",\"entertainment\",\"entertainment\",\"entertainment\",\"entertainment\",\"entertainment\",\"entertainment\",\"entertainment\",\"entertainment\",\"entertainment\",\"entertainment\",\"entertainment\",\"entertainment\",\"entertainment\",\"entertainment\",\"entertainment\",\"entertainment\",\"entertainment\",\"entertainment\",\"entertainment\",\"entertainment\",\"entertainment\",\"entertainment\",\"entertainment\",\"entertainment\",\"entertainment\",\"entertainment\",\"entertainment\",\"entertainment\",\"entertainment\",\"entertainment\",\"entertainment\",\"entertainment\",\"entertainment\",\"entertainment\",\"entertainment\",\"entertainment\",\"entertainment\",\"entertainment\",\"entertainment\",\"entertainment\",\"entertainment\",\"entertainment\",\"entertainment\",\"entertainment\",\"entertainment\",\"entertainment\",\"entertainment\",\"entertainment\",\"entertainment\",\"entertainment\",\"entertainment\",\"entertainment\",\"entertainment\",\"entertainment\",\"entertainment\",\"entertainment\",\"entertainment\",\"entertainment\",\"entertainment\",\"entertainment\",\"entertainment\",\"entertainment\",\"entertainment\",\"entertainment\",\"entertainment\",\"entertainment\",\"entertainment\",\"entertainment\",\"entertainment\",\"entertainment\",\"entertainment\",\"entertainment\",\"entertainment\",\"entertainment\",\"entertainment\",\"entertainment\",\"entertainment\",\"entertainment\",\"entertainment\",\"entertainment\",\"entertainment\",\"entertainment\",\"entertainment\",\"entertainment\",\"entertainment\",\"entertainment\",\"entertainment\",\"entertainment\",\"entertainment\",\"entertainment\",\"entertainment\",\"entertainment\",\"entertainment\",\"entertainment\",\"entertainment\",\"entertainment\",\"entertainment\",\"entertainment\",\"entertainment\",\"entertainment\",\"entertainment\",\"entertainment\",\"entertainment\",\"entertainment\",\"entertainment\",\"entertainment\",\"entertainment\",\"entertainment\",\"entertainment\",\"entertainment\",\"entertainment\",\"entertainment\",\"entertainment\",\"entertainment\",\"entertainment\",\"entertainment\",\"entertainment\",\"entertainment\",\"entertainment\",\"entertainment\",\"entertainment\",\"entertainment\",\"entertainment\",\"entertainment\",\"entertainment\",\"entertainment\",\"entertainment\",\"entertainment\",\"entertainment\",\"entertainment\",\"entertainment\",\"entertainment\",\"entertainment\",\"entertainment\",\"entertainment\",\"entertainment\",\"entertainment\",\"entertainment\",\"entertainment\",\"entertainment\",\"entertainment\",\"entertainment\",\"entertainment\",\"entertainment\",\"entertainment\",\"entertainment\",\"entertainment\",\"entertainment\",\"entertainment\",\"entertainment\",\"entertainment\",\"entertainment\",\"entertainment\",\"entertainment\",\"entertainment\",\"entertainment\",\"entertainment\",\"entertainment\",\"entertainment\",\"entertainment\",\"entertainment\",\"entertainment\",\"entertainment\",\"entertainment\",\"entertainment\",\"entertainment\",\"entertainment\",\"entertainment\",\"entertainment\",\"entertainment\",\"entertainment\",\"entertainment\",\"entertainment\",\"entertainment\",\"entertainment\",\"entertainment\",\"entertainment\",\"entertainment\",\"entertainment\",\"entertainment\",\"entertainment\",\"entertainment\",\"entertainment\",\"entertainment\",\"entertainment\",\"entertainment\",\"entertainment\",\"entertainment\",\"entertainment\",\"entertainment\",\"entertainment\",\"entertainment\",\"entertainment\",\"entertainment\",\"entertainment\",\"entertainment\",\"entertainment\",\"entertainment\",\"entertainment\",\"entertainment\",\"entertainment\",\"entertainment\",\"entertainment\",\"entertainment\",\"entertainment\",\"entertainment\",\"entertainment\",\"entertainment\",\"entertainment\",\"entertainment\",\"entertainment\",\"entertainment\",\"entertainment\",\"entertainment\",\"entertainment\",\"entertainment\",\"entertainment\",\"entertainment\",\"entertainment\",\"entertainment\",\"entertainment\",\"entertainment\",\"entertainment\",\"entertainment\",\"entertainment\",\"entertainment\",\"entertainment\",\"entertainment\",\"entertainment\",\"entertainment\",\"entertainment\",\"entertainment\",\"entertainment\",\"entertainment\",\"entertainment\",\"entertainment\",\"entertainment\",\"entertainment\",\"entertainment\",\"entertainment\",\"entertainment\",\"entertainment\",\"entertainment\",\"entertainment\",\"entertainment\",\"entertainment\",\"entertainment\",\"entertainment\",\"entertainment\",\"entertainment\",\"entertainment\",\"entertainment\",\"entertainment\",\"entertainment\",\"entertainment\",\"entertainment\",\"entertainment\",\"entertainment\",\"entertainment\",\"entertainment\",\"entertainment\",\"entertainment\",\"entertainment\",\"entertainment\",\"entertainment\",\"entertainment\",\"entertainment\",\"entertainment\",\"entertainment\",\"entertainment\",\"entertainment\",\"entertainment\",\"entertainment\",\"entertainment\",\"entertainment\",\"entertainment\",\"entertainment\",\"entertainment\",\"entertainment\",\"entertainment\",\"entertainment\",\"entertainment\",\"entertainment\",\"entertainment\",\"entertainment\",\"politics\",\"politics\",\"politics\",\"politics\",\"politics\",\"politics\",\"politics\",\"politics\",\"politics\",\"politics\",\"politics\",\"politics\",\"politics\",\"politics\",\"politics\",\"politics\",\"politics\",\"politics\",\"politics\",\"politics\",\"politics\",\"politics\",\"politics\",\"politics\",\"politics\",\"politics\",\"politics\",\"politics\",\"politics\",\"politics\",\"politics\",\"politics\",\"politics\",\"politics\",\"politics\",\"politics\",\"politics\",\"politics\",\"politics\",\"politics\",\"politics\",\"politics\",\"politics\",\"politics\",\"politics\",\"politics\",\"politics\",\"politics\",\"politics\",\"politics\",\"politics\",\"politics\",\"politics\",\"politics\",\"politics\",\"politics\",\"politics\",\"politics\",\"politics\",\"politics\",\"politics\",\"politics\",\"politics\",\"politics\",\"politics\",\"politics\",\"politics\",\"politics\",\"politics\",\"politics\",\"politics\",\"politics\",\"politics\",\"politics\",\"politics\",\"politics\",\"politics\",\"politics\",\"politics\",\"politics\",\"politics\",\"politics\",\"politics\",\"politics\",\"politics\",\"politics\",\"politics\",\"politics\",\"politics\",\"politics\",\"politics\",\"politics\",\"politics\",\"politics\",\"politics\",\"politics\",\"politics\",\"politics\",\"politics\",\"politics\",\"politics\",\"politics\",\"politics\",\"politics\",\"politics\",\"politics\",\"politics\",\"politics\",\"politics\",\"politics\",\"politics\",\"politics\",\"politics\",\"politics\",\"politics\",\"politics\",\"politics\",\"politics\",\"politics\",\"politics\",\"politics\",\"politics\",\"politics\",\"politics\",\"politics\",\"politics\",\"politics\",\"politics\",\"politics\",\"politics\",\"politics\",\"politics\",\"politics\",\"politics\",\"politics\",\"politics\",\"politics\",\"politics\",\"politics\",\"politics\",\"politics\",\"politics\",\"politics\",\"politics\",\"politics\",\"politics\",\"politics\",\"politics\",\"politics\",\"politics\",\"politics\",\"politics\",\"politics\",\"politics\",\"politics\",\"politics\",\"politics\",\"politics\",\"politics\",\"politics\",\"politics\",\"politics\",\"politics\",\"politics\",\"politics\",\"politics\",\"politics\",\"politics\",\"politics\",\"politics\",\"politics\",\"politics\",\"politics\",\"politics\",\"politics\",\"politics\",\"politics\",\"politics\",\"politics\",\"politics\",\"politics\",\"politics\",\"politics\",\"politics\",\"politics\",\"politics\",\"politics\",\"politics\",\"politics\",\"politics\",\"politics\",\"politics\",\"politics\",\"politics\",\"politics\",\"politics\",\"politics\",\"politics\",\"politics\",\"politics\",\"politics\",\"politics\",\"politics\",\"politics\",\"politics\",\"politics\",\"politics\",\"politics\",\"politics\",\"politics\",\"politics\",\"politics\",\"politics\",\"politics\",\"politics\",\"politics\",\"politics\",\"politics\",\"politics\",\"politics\",\"politics\",\"politics\",\"politics\",\"politics\",\"politics\",\"politics\",\"politics\",\"politics\",\"politics\",\"politics\",\"politics\",\"politics\",\"politics\",\"politics\",\"politics\",\"politics\",\"politics\",\"politics\",\"politics\",\"politics\",\"politics\",\"politics\",\"politics\",\"politics\",\"politics\",\"politics\",\"politics\",\"politics\",\"politics\",\"politics\",\"politics\",\"politics\",\"politics\",\"politics\",\"politics\",\"politics\",\"politics\",\"politics\",\"politics\",\"politics\",\"politics\",\"politics\",\"politics\",\"politics\",\"politics\",\"politics\",\"politics\",\"politics\",\"politics\",\"politics\",\"politics\",\"politics\",\"politics\",\"politics\",\"politics\",\"politics\",\"politics\",\"politics\",\"politics\",\"politics\",\"politics\",\"politics\",\"politics\",\"politics\",\"politics\",\"politics\",\"politics\",\"politics\",\"politics\",\"politics\",\"politics\",\"politics\",\"politics\",\"politics\",\"politics\",\"politics\",\"politics\",\"politics\",\"politics\",\"politics\",\"politics\",\"politics\",\"politics\",\"politics\",\"politics\",\"politics\",\"politics\",\"politics\",\"politics\",\"politics\",\"politics\",\"politics\",\"politics\",\"politics\",\"politics\",\"politics\",\"politics\",\"politics\",\"politics\",\"politics\",\"politics\",\"politics\",\"politics\",\"politics\",\"politics\",\"politics\",\"politics\",\"politics\",\"politics\",\"politics\",\"politics\",\"politics\",\"politics\",\"politics\",\"politics\",\"politics\",\"politics\",\"politics\",\"politics\",\"politics\",\"politics\",\"politics\",\"politics\",\"politics\",\"politics\",\"politics\",\"politics\",\"politics\",\"politics\",\"politics\",\"politics\",\"politics\",\"politics\",\"politics\",\"politics\",\"politics\",\"politics\",\"politics\",\"politics\",\"politics\",\"politics\",\"politics\",\"politics\",\"politics\",\"politics\",\"politics\",\"politics\",\"politics\",\"politics\",\"politics\",\"politics\",\"politics\",\"politics\",\"politics\",\"politics\",\"politics\",\"politics\",\"politics\",\"politics\",\"politics\",\"politics\",\"politics\",\"politics\",\"politics\",\"politics\",\"politics\",\"politics\",\"politics\",\"politics\",\"politics\",\"politics\",\"politics\",\"politics\",\"politics\",\"politics\",\"politics\",\"politics\",\"politics\",\"politics\",\"politics\",\"politics\",\"politics\",\"politics\",\"politics\",\"politics\",\"politics\",\"politics\",\"politics\",\"politics\",\"politics\",\"politics\",\"politics\",\"politics\",\"politics\",\"politics\",\"politics\",\"politics\",\"sport\",\"sport\",\"sport\",\"sport\",\"sport\",\"sport\",\"sport\",\"sport\",\"sport\",\"sport\",\"sport\",\"sport\",\"sport\",\"sport\",\"sport\",\"sport\",\"sport\",\"sport\",\"sport\",\"sport\",\"sport\",\"sport\",\"sport\",\"sport\",\"sport\",\"sport\",\"sport\",\"sport\",\"sport\",\"sport\",\"sport\",\"sport\",\"sport\",\"sport\",\"sport\",\"sport\",\"sport\",\"sport\",\"sport\",\"sport\",\"sport\",\"sport\",\"sport\",\"sport\",\"sport\",\"sport\",\"sport\",\"sport\",\"sport\",\"sport\",\"sport\",\"sport\",\"sport\",\"sport\",\"sport\",\"sport\",\"sport\",\"sport\",\"sport\",\"sport\",\"sport\",\"sport\",\"sport\",\"sport\",\"sport\",\"sport\",\"sport\",\"sport\",\"sport\",\"sport\",\"sport\",\"sport\",\"sport\",\"sport\",\"sport\",\"sport\",\"sport\",\"sport\",\"sport\",\"sport\",\"sport\",\"sport\",\"sport\",\"sport\",\"sport\",\"sport\",\"sport\",\"sport\",\"sport\",\"sport\",\"sport\",\"sport\",\"sport\",\"sport\",\"sport\",\"sport\",\"sport\",\"sport\",\"sport\",\"sport\",\"sport\",\"sport\",\"sport\",\"sport\",\"sport\",\"sport\",\"sport\",\"sport\",\"sport\",\"sport\",\"sport\",\"sport\",\"sport\",\"sport\",\"sport\",\"sport\",\"sport\",\"sport\",\"sport\",\"sport\",\"sport\",\"sport\",\"sport\",\"sport\",\"sport\",\"sport\",\"sport\",\"sport\",\"sport\",\"sport\",\"sport\",\"sport\",\"sport\",\"sport\",\"sport\",\"sport\",\"sport\",\"sport\",\"sport\",\"sport\",\"sport\",\"sport\",\"sport\",\"sport\",\"sport\",\"sport\",\"sport\",\"sport\",\"sport\",\"sport\",\"sport\",\"sport\",\"sport\",\"sport\",\"sport\",\"sport\",\"sport\",\"sport\",\"sport\",\"sport\",\"sport\",\"sport\",\"sport\",\"sport\",\"sport\",\"sport\",\"sport\",\"sport\",\"sport\",\"sport\",\"sport\",\"sport\",\"sport\",\"sport\",\"sport\",\"sport\",\"sport\",\"sport\",\"sport\",\"sport\",\"sport\",\"sport\",\"sport\",\"sport\",\"sport\",\"sport\",\"sport\",\"sport\",\"sport\",\"sport\",\"sport\",\"sport\",\"sport\",\"sport\",\"sport\",\"sport\",\"sport\",\"sport\",\"sport\",\"sport\",\"sport\",\"sport\",\"sport\",\"sport\",\"sport\",\"sport\",\"sport\",\"sport\",\"sport\",\"sport\",\"sport\",\"sport\",\"sport\",\"sport\",\"sport\",\"sport\",\"sport\",\"sport\",\"sport\",\"sport\",\"sport\",\"sport\",\"sport\",\"sport\",\"sport\",\"sport\",\"sport\",\"sport\",\"sport\",\"sport\",\"sport\",\"sport\",\"sport\",\"sport\",\"sport\",\"sport\",\"sport\",\"sport\",\"sport\",\"sport\",\"sport\",\"sport\",\"sport\",\"sport\",\"sport\",\"sport\",\"sport\",\"sport\",\"sport\",\"sport\",\"sport\",\"sport\",\"sport\",\"sport\",\"sport\",\"sport\",\"sport\",\"sport\",\"sport\",\"sport\",\"sport\",\"sport\",\"sport\",\"sport\",\"sport\",\"sport\",\"sport\",\"sport\",\"sport\",\"sport\",\"sport\",\"sport\",\"sport\",\"sport\",\"sport\",\"sport\",\"sport\",\"sport\",\"sport\",\"sport\",\"sport\",\"sport\",\"sport\",\"sport\",\"sport\",\"sport\",\"sport\",\"sport\",\"sport\",\"sport\",\"sport\",\"sport\",\"sport\",\"sport\",\"sport\",\"sport\",\"sport\",\"sport\",\"sport\",\"sport\",\"sport\",\"sport\",\"sport\",\"sport\",\"sport\",\"sport\",\"sport\",\"sport\",\"sport\",\"sport\",\"sport\",\"sport\",\"sport\",\"sport\",\"sport\",\"sport\",\"sport\",\"sport\",\"sport\",\"sport\",\"sport\",\"sport\",\"sport\",\"sport\",\"sport\",\"sport\",\"sport\",\"sport\",\"sport\",\"sport\",\"sport\",\"sport\",\"sport\",\"sport\",\"sport\",\"sport\",\"sport\",\"sport\",\"sport\",\"sport\",\"sport\",\"sport\",\"sport\",\"sport\",\"sport\",\"sport\",\"sport\",\"sport\",\"sport\",\"sport\",\"sport\",\"sport\",\"sport\",\"sport\",\"sport\",\"sport\",\"sport\",\"sport\",\"sport\",\"sport\",\"sport\",\"sport\",\"sport\",\"sport\",\"sport\",\"sport\",\"sport\",\"sport\",\"sport\",\"sport\",\"sport\",\"sport\",\"sport\",\"sport\",\"sport\",\"sport\",\"sport\",\"sport\",\"sport\",\"sport\",\"sport\",\"sport\",\"sport\",\"sport\",\"sport\",\"sport\",\"sport\",\"sport\",\"sport\",\"sport\",\"sport\",\"sport\",\"sport\",\"sport\",\"sport\",\"sport\",\"sport\",\"sport\",\"sport\",\"sport\",\"sport\",\"sport\",\"sport\",\"sport\",\"sport\",\"sport\",\"sport\",\"sport\",\"sport\",\"sport\",\"sport\",\"sport\",\"sport\",\"sport\",\"sport\",\"sport\",\"sport\",\"sport\",\"sport\",\"sport\",\"sport\",\"sport\",\"sport\",\"sport\",\"sport\",\"sport\",\"sport\",\"sport\",\"sport\",\"sport\",\"sport\",\"sport\",\"sport\",\"sport\",\"sport\",\"sport\",\"sport\",\"sport\",\"sport\",\"sport\",\"sport\",\"sport\",\"sport\",\"sport\",\"sport\",\"sport\",\"sport\",\"sport\",\"sport\",\"sport\",\"sport\",\"sport\",\"sport\",\"sport\",\"sport\",\"sport\",\"sport\",\"sport\",\"sport\",\"sport\",\"sport\",\"sport\",\"sport\",\"sport\",\"sport\",\"sport\",\"sport\",\"sport\",\"sport\",\"sport\",\"sport\",\"sport\",\"sport\",\"sport\",\"sport\",\"sport\",\"sport\",\"sport\",\"sport\",\"sport\",\"sport\",\"sport\",\"sport\",\"sport\",\"sport\",\"sport\",\"sport\",\"sport\",\"sport\",\"sport\",\"sport\",\"sport\",\"sport\",\"sport\",\"sport\",\"sport\",\"sport\",\"sport\",\"sport\",\"sport\",\"sport\",\"sport\",\"sport\",\"sport\",\"sport\",\"sport\",\"sport\",\"sport\",\"sport\",\"sport\",\"sport\",\"tech\",\"tech\",\"tech\",\"tech\",\"tech\",\"tech\",\"tech\",\"tech\",\"tech\",\"tech\",\"tech\",\"tech\",\"tech\",\"tech\",\"tech\",\"tech\",\"tech\",\"tech\",\"tech\",\"tech\",\"tech\",\"tech\",\"tech\",\"tech\",\"tech\",\"tech\",\"tech\",\"tech\",\"tech\",\"tech\",\"tech\",\"tech\",\"tech\",\"tech\",\"tech\",\"tech\",\"tech\",\"tech\",\"tech\",\"tech\",\"tech\",\"tech\",\"tech\",\"tech\",\"tech\",\"tech\",\"tech\",\"tech\",\"tech\",\"tech\",\"tech\",\"tech\",\"tech\",\"tech\",\"tech\",\"tech\",\"tech\",\"tech\",\"tech\",\"tech\",\"tech\",\"tech\",\"tech\",\"tech\",\"tech\",\"tech\",\"tech\",\"tech\",\"tech\",\"tech\",\"tech\",\"tech\",\"tech\",\"tech\",\"tech\",\"tech\",\"tech\",\"tech\",\"tech\",\"tech\",\"tech\",\"tech\",\"tech\",\"tech\",\"tech\",\"tech\",\"tech\",\"tech\",\"tech\",\"tech\",\"tech\",\"tech\",\"tech\",\"tech\",\"tech\",\"tech\",\"tech\",\"tech\",\"tech\",\"tech\",\"tech\",\"tech\",\"tech\",\"tech\",\"tech\",\"tech\",\"tech\",\"tech\",\"tech\",\"tech\",\"tech\",\"tech\",\"tech\",\"tech\",\"tech\",\"tech\",\"tech\",\"tech\",\"tech\",\"tech\",\"tech\",\"tech\",\"tech\",\"tech\",\"tech\",\"tech\",\"tech\",\"tech\",\"tech\",\"tech\",\"tech\",\"tech\",\"tech\",\"tech\",\"tech\",\"tech\",\"tech\",\"tech\",\"tech\",\"tech\",\"tech\",\"tech\",\"tech\",\"tech\",\"tech\",\"tech\",\"tech\",\"tech\",\"tech\",\"tech\",\"tech\",\"tech\",\"tech\",\"tech\",\"tech\",\"tech\",\"tech\",\"tech\",\"tech\",\"tech\",\"tech\",\"tech\",\"tech\",\"tech\",\"tech\",\"tech\",\"tech\",\"tech\",\"tech\",\"tech\",\"tech\",\"tech\",\"tech\",\"tech\",\"tech\",\"tech\",\"tech\",\"tech\",\"tech\",\"tech\",\"tech\",\"tech\",\"tech\",\"tech\",\"tech\",\"tech\",\"tech\",\"tech\",\"tech\",\"tech\",\"tech\",\"tech\",\"tech\",\"tech\",\"tech\",\"tech\",\"tech\",\"tech\",\"tech\",\"tech\",\"tech\",\"tech\",\"tech\",\"tech\",\"tech\",\"tech\",\"tech\",\"tech\",\"tech\",\"tech\",\"tech\",\"tech\",\"tech\",\"tech\",\"tech\",\"tech\",\"tech\",\"tech\",\"tech\",\"tech\",\"tech\",\"tech\",\"tech\",\"tech\",\"tech\",\"tech\",\"tech\",\"tech\",\"tech\",\"tech\",\"tech\",\"tech\",\"tech\",\"tech\",\"tech\",\"tech\",\"tech\",\"tech\",\"tech\",\"tech\",\"tech\",\"tech\",\"tech\",\"tech\",\"tech\",\"tech\",\"tech\",\"tech\",\"tech\",\"tech\",\"tech\",\"tech\",\"tech\",\"tech\",\"tech\",\"tech\",\"tech\",\"tech\",\"tech\",\"tech\",\"tech\",\"tech\",\"tech\",\"tech\",\"tech\",\"tech\",\"tech\",\"tech\",\"tech\",\"tech\",\"tech\",\"tech\",\"tech\",\"tech\",\"tech\",\"tech\",\"tech\",\"tech\",\"tech\",\"tech\",\"tech\",\"tech\",\"tech\",\"tech\",\"tech\",\"tech\",\"tech\",\"tech\",\"tech\",\"tech\",\"tech\",\"tech\",\"tech\",\"tech\",\"tech\",\"tech\",\"tech\",\"tech\",\"tech\",\"tech\",\"tech\",\"tech\",\"tech\",\"tech\",\"tech\",\"tech\",\"tech\",\"tech\",\"tech\",\"tech\",\"tech\",\"tech\",\"tech\",\"tech\",\"tech\",\"tech\",\"tech\",\"tech\",\"tech\",\"tech\",\"tech\",\"tech\",\"tech\",\"tech\",\"tech\",\"tech\",\"tech\",\"tech\",\"tech\",\"tech\",\"tech\",\"tech\",\"tech\",\"tech\",\"tech\",\"tech\",\"tech\",\"tech\",\"tech\",\"tech\",\"tech\",\"tech\",\"tech\",\"tech\",\"tech\",\"tech\",\"tech\",\"tech\",\"tech\",\"tech\",\"tech\",\"tech\",\"tech\",\"tech\",\"tech\",\"tech\",\"tech\",\"tech\",\"tech\",\"tech\",\"tech\",\"tech\",\"tech\",\"tech\",\"tech\",\"tech\",\"tech\",\"tech\",\"tech\",\"tech\",\"tech\",\"tech\",\"tech\",\"tech\",\"tech\",\"tech\",\"tech\",\"tech\",\"tech\",\"tech\",\"tech\",\"tech\",\"tech\",\"tech\",\"tech\",\"tech\",\"tech\",\"tech\",\"tech\",\"tech\",\"tech\",\"tech\",\"tech\",\"tech\",\"tech\",\"tech\",\"tech\",\"tech\",\"tech\",\"tech\",\"tech\"],\"xaxis\":\"x\",\"y\":[415,379,258,400,260,180,277,315,224,222,179,295,295,461,600,241,209,170,265,653,343,301,203,321,450,291,268,206,397,410,299,272,220,302,193,343,414,148,205,223,322,222,188,399,305,288,268,260,611,303,290,478,232,248,359,256,436,193,290,139,260,313,283,285,349,315,288,384,531,179,201,273,248,249,207,278,437,255,244,186,259,202,528,204,223,188,289,189,370,371,310,356,310,204,258,136,439,212,423,338,346,222,472,363,222,300,290,166,144,263,521,282,365,347,197,228,414,217,449,297,514,380,186,166,236,366,475,297,156,417,441,211,277,358,399,531,212,307,301,436,255,334,258,153,248,868,204,253,589,359,280,326,395,355,262,279,267,153,630,380,361,286,436,408,358,259,208,227,166,219,213,408,360,273,205,286,341,262,212,351,465,251,817,340,299,207,300,396,419,304,480,393,293,173,430,298,266,275,331,637,276,343,280,470,266,296,339,286,475,393,231,269,421,292,515,351,494,204,259,316,315,449,256,523,219,289,186,213,446,240,305,253,160,174,207,387,175,309,233,292,767,605,877,496,803,383,262,318,599,284,294,602,277,288,167,197,424,426,219,495,727,541,316,390,289,702,187,788,408,484,467,378,498,262,280,167,853,186,419,162,201,317,151,726,245,371,885,232,319,499,424,369,380,495,313,519,279,244,481,181,179,213,322,267,242,191,438,327,217,220,201,275,266,722,268,353,369,418,307,255,141,150,455,387,264,383,300,226,334,862,273,539,289,251,286,387,329,236,286,332,247,340,143,418,426,651,240,480,350,208,204,141,885,553,173,426,267,436,352,214,240,252,250,206,187,403,323,272,171,208,197,158,163,256,281,305,138,223,208,220,228,291,301,324,180,327,340,278,272,226,358,354,331,168,253,147,318,272,553,311,292,303,369,263,487,476,248,141,641,174,253,321,450,347,395,369,262,139,230,241,361,224,248,347,232,405,296,547,280,400,157,181,168,582,420,288,435,499,219,411,318,313,196,270,362,309,218,378,486,402,278,331,312,432,382,195,372,348,355,315,301,292,159,219,202,295,202,275,325,136,477,471,149,195,282,210,244,279,361,165,346,486,180,205,244,293,701,303,274,303,345,160,371,515,498,183,288,473,230,189,545,207,205,442,241,260,462,218,422,144,186,249,187,208,174,223,354,296,329,310,213,369,475,234,254,643,247,222,146,272,450,592,284,348,293,361,292,248,294,221,253,504,325,313,256,231,254,315,380,257,207,187,372,295,228,211,228,328,267,264,328,201,258,291,288,317,236,222,276,170,748,246,312,552,151,302,248,219,328,219,281,329,201,246,343,217,331,327,208,246,312,380,149,214,389,318,168,246,153,296,188,138,213,407,528,268,304,196,226,306,299,210,384,206,247,195,184,353,244,252,234,176,233,247,264,229,278,254,231,615,301,736,259,231,236,198,384,205,246,355,1275,413,397,220,211,229,292,300,186,223,664,554,387,190,397,265,243,427,321,185,285,284,593,194,205,245,141,300,361,200,391,227,213,191,171,286,376,315,250,173,238,224,237,187,239,244,160,228,190,212,628,392,270,395,229,159,212,216,183,344,390,272,466,228,220,259,452,173,229,173,551,406,498,240,228,283,307,227,198,243,159,245,582,465,246,190,196,247,224,265,408,168,251,224,281,282,214,329,554,188,406,196,178,309,247,562,223,256,439,245,207,196,190,659,443,196,230,462,140,227,354,219,3477,389,520,2342,307,344,561,181,246,832,589,573,254,178,263,378,295,198,527,187,284,166,667,353,232,240,325,801,237,442,228,543,237,224,292,357,372,179,406,290,256,366,217,275,207,265,239,496,276,173,421,236,717,586,320,219,161,174,359,285,251,1041,290,520,169,156,332,192,371,237,505,215,449,634,300,318,236,222,200,172,279,268,267,393,231,211,221,236,210,222,171,162,222,309,378,222,241,201,313,489,2387,595,504,372,567,464,180,259,268,294,445,194,208,317,596,993,480,246,233,627,466,218,513,315,262,388,192,191,211,228,220,267,256,263,445,375,519,249,499,342,509,531,525,190,277,424,564,468,148,231,164,253,626,549,479,425,316,252,234,254,658,243,414,356,463,340,451,437,227,400,216,312,526,572,633,523,252,213,279,434,506,525,477,683,375,423,573,244,507,484,197,395,509,450,313,564,254,310,446,528,564,542,369,522,278,526,378,196,431,398,241,636,473,489,337,514,279,252,497,399,611,560,588,259,176,406,253,506,440,373,497,350,431,611,571,468,364,467,528,495,354,175,295,477,924,371,326,296,579,498,272,416,456,389,534,574,157,604,376,454,609,616,217,429,351,312,282,455,596,487,593,398,309,221,534,536,443,218,157,359,460,427,411,243,461,483,416,505,451,413,515,258,510,515,302,309,250,302,502,378,393,600,420,456,251,387,402,673,395,503,471,208,468,522,402,574,334,565,421,451,385,191,533,278,238,561,513,271,331,422,303,479,444,437,332,464,416,413,420,244,241,288,331,496,524,155,568,481,680,361,267,620,489,465,480,311,353,592,405,275,497,295,475,470,395,329,317,584,169,157,148,344,405,366,565,428,191,451,495,568,258,285,136,1175,758,557,620,744,616,578,567,624,693,521,557,489,831,604,330,316,855,537,174,503,564,543,402,381,440,458,287,319,486,325,493,574,490,666,279,376,272,322,422,4428,175,669,2389,299,334,306,422,509,337,534,528,443,607,150,509,376,284,197,227,157,369,365,405,273,722,412,468,293,473,539,267,429,243,603,315,416,703,635,155,249,494,419,435,423,397,809,575,434,550,573,353,354,157,590,349,362,451,477,646,428,509,489,873,285,492,479,315,276,499,502,532,583,368,411,382,496,477,495,358,534,371,491,681,394,712,246,269,569,474,3290,168,541,514,572,309,464,447,511,591,564,178,319,763,432,504,690,84,149,537,663,258,271,480,255,547,983,451,606,268,252,854,245,192,543,253,286,475,206,139,371,190,156,141,120,230,382,245,186,218,305,477,139,254,250,228,134,218,255,215,404,163,282,154,164,313,137,723,141,194,249,939,297,216,274,385,165,734,223,224,492,273,294,189,280,416,452,256,271,136,154,296,250,135,767,862,677,372,662,229,271,199,270,792,176,643,805,684,190,562,174,126,506,220,118,165,233,216,333,386,121,136,125,170,178,452,292,342,291,145,767,218,523,259,421,137,233,369,615,343,161,587,632,560,447,504,432,216,433,1351,236,306,643,151,193,1041,493,180,1351,307,217,296,291,411,150,239,202,134,242,240,340,296,156,143,339,247,512,380,153,402,140,221,300,448,330,155,253,305,227,446,202,297,314,282,309,374,255,520,170,142,504,209,172,313,132,243,241,362,126,346,144,154,129,313,252,235,645,646,510,510,300,210,225,282,190,308,295,262,108,402,226,148,405,282,317,222,440,269,279,192,119,219,334,259,398,417,331,584,340,415,183,122,261,574,333,824,280,130,210,392,407,139,120,240,532,400,145,181,429,436,331,201,773,307,176,214,133,520,191,230,435,247,302,546,301,369,115,323,607,183,320,440,183,128,244,244,186,488,147,126,172,347,214,146,333,589,423,237,156,260,278,383,249,288,199,418,126,191,261,157,496,391,382,236,316,222,382,439,344,225,313,386,220,158,182,176,418,293,218,468,448,229,151,242,352,623,431,405,602,720,610,468,283,320,147,270,118,395,217,421,518,129,111,291,440,466,466,472,507,337,402,264,215,396,342,456,292,438,214,328,243,337,301,205,294,294,381,184,207,310,253,503,289,151,238,450,366,234,298,200,287,772,352,371,406,721,208,317,1656,238,426,256,738,380,633,348,374,394,230,421,530,403,500,290,500,147,212,168,539,184,180,185,657,347,429,240,312,307,619,233,596,627,726,382,468,215,369,312,249,310,559,673,393,720,214,175,218,296,336,147,433,250,341,305,200,185,199,260,270,243,341,180,288,260,257,243,227,160,156,162,146,145,285,491,304,408,475,301,194,153,159,140,272,151,121,223,177,178,301,196,157,418,316,414,125,396,441,441,125,345,415,381,230,836,348,223,223,486,291,167,352,167,132,410,208,371,416,416,1378,243,602,179,677,263,246,122,199,414,126,325,289,129,133,125,232,129,200,317,209,666,378,208,459,799,623,274,279,1229,504,564,259,524,277,287,684,516,371,474,461,333,298,415,282,190,442,545,461,375,284,886,817,342,544,397,208,258,329,210,555,482,256,337,316,244,329,319,368,469,426,389,425,421,253,240,582,223,339,625,274,416,428,459,653,323,506,620,398,568,302,694,881,537,494,268,331,624,323,429,288,494,479,441,501,394,455,640,504,360,685,348,412,772,891,908,290,463,439,695,362,350,751,565,458,410,681,302,608,385,1022,292,331,556,461,384,326,283,330,381,459,362,680,589,358,645,321,359,250,414,434,378,272,554,582,849,313,907,619,757,495,364,801,542,809,480,398,405,351,228,331,628,370,562,954,732,667,514,398,405,321,794,228,691,906,336,336,442,572,308,540,321,359,719,892,414,272,388,434,378,554,262,292,351,802,562,344,634,1343,528,324,595,362,630,347,602,414,356,919,835,346,427,499,470,362,377,641,297,611,258,519,524,625,615,372,442,723,385,517,316,513,344,711,499,316,625,524,352,651,803,324,433,224,308,639,665,396,226,175,212,638,226,237,484,496,702,393,287,235,316,335,446,279,378,263,320,465,286,259,322,435,509,210,430,804,362,344,580,548,392,721,266,285,417,387,492,573,597,446,389,560,759,552,728,157,724,803,323,794,439,326,691,388,667,733,651,630,435,430,721,844,1039,389,268,724,688,752,700,441,842,360,935,685,891,240,545,608,190,428,818,472,416,625,389,316,658,306,319,333,477,277,259,555,258,210,811,802,736,653,256,469,245,368,333,263,269,388,726,452,793,486,394,267,489,857,394,496,511,997,405,806,476,471,441,998,390,806,513,451,364,625,618,323,429,250,538,482,290,579,1523,298,506,620,707,576,310,786,330,565,640,332,803,331,494,829,858,996,414,352,1045,374,2964],\"yaxis\":\"y\",\"type\":\"histogram\"}],                        {\"template\":{\"data\":{\"histogram2dcontour\":[{\"type\":\"histogram2dcontour\",\"colorbar\":{\"outlinewidth\":0,\"ticks\":\"\"},\"colorscale\":[[0.0,\"#0d0887\"],[0.1111111111111111,\"#46039f\"],[0.2222222222222222,\"#7201a8\"],[0.3333333333333333,\"#9c179e\"],[0.4444444444444444,\"#bd3786\"],[0.5555555555555556,\"#d8576b\"],[0.6666666666666666,\"#ed7953\"],[0.7777777777777778,\"#fb9f3a\"],[0.8888888888888888,\"#fdca26\"],[1.0,\"#f0f921\"]]}],\"choropleth\":[{\"type\":\"choropleth\",\"colorbar\":{\"outlinewidth\":0,\"ticks\":\"\"}}],\"histogram2d\":[{\"type\":\"histogram2d\",\"colorbar\":{\"outlinewidth\":0,\"ticks\":\"\"},\"colorscale\":[[0.0,\"#0d0887\"],[0.1111111111111111,\"#46039f\"],[0.2222222222222222,\"#7201a8\"],[0.3333333333333333,\"#9c179e\"],[0.4444444444444444,\"#bd3786\"],[0.5555555555555556,\"#d8576b\"],[0.6666666666666666,\"#ed7953\"],[0.7777777777777778,\"#fb9f3a\"],[0.8888888888888888,\"#fdca26\"],[1.0,\"#f0f921\"]]}],\"heatmap\":[{\"type\":\"heatmap\",\"colorbar\":{\"outlinewidth\":0,\"ticks\":\"\"},\"colorscale\":[[0.0,\"#0d0887\"],[0.1111111111111111,\"#46039f\"],[0.2222222222222222,\"#7201a8\"],[0.3333333333333333,\"#9c179e\"],[0.4444444444444444,\"#bd3786\"],[0.5555555555555556,\"#d8576b\"],[0.6666666666666666,\"#ed7953\"],[0.7777777777777778,\"#fb9f3a\"],[0.8888888888888888,\"#fdca26\"],[1.0,\"#f0f921\"]]}],\"heatmapgl\":[{\"type\":\"heatmapgl\",\"colorbar\":{\"outlinewidth\":0,\"ticks\":\"\"},\"colorscale\":[[0.0,\"#0d0887\"],[0.1111111111111111,\"#46039f\"],[0.2222222222222222,\"#7201a8\"],[0.3333333333333333,\"#9c179e\"],[0.4444444444444444,\"#bd3786\"],[0.5555555555555556,\"#d8576b\"],[0.6666666666666666,\"#ed7953\"],[0.7777777777777778,\"#fb9f3a\"],[0.8888888888888888,\"#fdca26\"],[1.0,\"#f0f921\"]]}],\"contourcarpet\":[{\"type\":\"contourcarpet\",\"colorbar\":{\"outlinewidth\":0,\"ticks\":\"\"}}],\"contour\":[{\"type\":\"contour\",\"colorbar\":{\"outlinewidth\":0,\"ticks\":\"\"},\"colorscale\":[[0.0,\"#0d0887\"],[0.1111111111111111,\"#46039f\"],[0.2222222222222222,\"#7201a8\"],[0.3333333333333333,\"#9c179e\"],[0.4444444444444444,\"#bd3786\"],[0.5555555555555556,\"#d8576b\"],[0.6666666666666666,\"#ed7953\"],[0.7777777777777778,\"#fb9f3a\"],[0.8888888888888888,\"#fdca26\"],[1.0,\"#f0f921\"]]}],\"surface\":[{\"type\":\"surface\",\"colorbar\":{\"outlinewidth\":0,\"ticks\":\"\"},\"colorscale\":[[0.0,\"#0d0887\"],[0.1111111111111111,\"#46039f\"],[0.2222222222222222,\"#7201a8\"],[0.3333333333333333,\"#9c179e\"],[0.4444444444444444,\"#bd3786\"],[0.5555555555555556,\"#d8576b\"],[0.6666666666666666,\"#ed7953\"],[0.7777777777777778,\"#fb9f3a\"],[0.8888888888888888,\"#fdca26\"],[1.0,\"#f0f921\"]]}],\"mesh3d\":[{\"type\":\"mesh3d\",\"colorbar\":{\"outlinewidth\":0,\"ticks\":\"\"}}],\"scatter\":[{\"fillpattern\":{\"fillmode\":\"overlay\",\"size\":10,\"solidity\":0.2},\"type\":\"scatter\"}],\"parcoords\":[{\"type\":\"parcoords\",\"line\":{\"colorbar\":{\"outlinewidth\":0,\"ticks\":\"\"}}}],\"scatterpolargl\":[{\"type\":\"scatterpolargl\",\"marker\":{\"colorbar\":{\"outlinewidth\":0,\"ticks\":\"\"}}}],\"bar\":[{\"error_x\":{\"color\":\"#2a3f5f\"},\"error_y\":{\"color\":\"#2a3f5f\"},\"marker\":{\"line\":{\"color\":\"#E5ECF6\",\"width\":0.5},\"pattern\":{\"fillmode\":\"overlay\",\"size\":10,\"solidity\":0.2}},\"type\":\"bar\"}],\"scattergeo\":[{\"type\":\"scattergeo\",\"marker\":{\"colorbar\":{\"outlinewidth\":0,\"ticks\":\"\"}}}],\"scatterpolar\":[{\"type\":\"scatterpolar\",\"marker\":{\"colorbar\":{\"outlinewidth\":0,\"ticks\":\"\"}}}],\"histogram\":[{\"marker\":{\"pattern\":{\"fillmode\":\"overlay\",\"size\":10,\"solidity\":0.2}},\"type\":\"histogram\"}],\"scattergl\":[{\"type\":\"scattergl\",\"marker\":{\"colorbar\":{\"outlinewidth\":0,\"ticks\":\"\"}}}],\"scatter3d\":[{\"type\":\"scatter3d\",\"line\":{\"colorbar\":{\"outlinewidth\":0,\"ticks\":\"\"}},\"marker\":{\"colorbar\":{\"outlinewidth\":0,\"ticks\":\"\"}}}],\"scattermapbox\":[{\"type\":\"scattermapbox\",\"marker\":{\"colorbar\":{\"outlinewidth\":0,\"ticks\":\"\"}}}],\"scatterternary\":[{\"type\":\"scatterternary\",\"marker\":{\"colorbar\":{\"outlinewidth\":0,\"ticks\":\"\"}}}],\"scattercarpet\":[{\"type\":\"scattercarpet\",\"marker\":{\"colorbar\":{\"outlinewidth\":0,\"ticks\":\"\"}}}],\"carpet\":[{\"aaxis\":{\"endlinecolor\":\"#2a3f5f\",\"gridcolor\":\"white\",\"linecolor\":\"white\",\"minorgridcolor\":\"white\",\"startlinecolor\":\"#2a3f5f\"},\"baxis\":{\"endlinecolor\":\"#2a3f5f\",\"gridcolor\":\"white\",\"linecolor\":\"white\",\"minorgridcolor\":\"white\",\"startlinecolor\":\"#2a3f5f\"},\"type\":\"carpet\"}],\"table\":[{\"cells\":{\"fill\":{\"color\":\"#EBF0F8\"},\"line\":{\"color\":\"white\"}},\"header\":{\"fill\":{\"color\":\"#C8D4E3\"},\"line\":{\"color\":\"white\"}},\"type\":\"table\"}],\"barpolar\":[{\"marker\":{\"line\":{\"color\":\"#E5ECF6\",\"width\":0.5},\"pattern\":{\"fillmode\":\"overlay\",\"size\":10,\"solidity\":0.2}},\"type\":\"barpolar\"}],\"pie\":[{\"automargin\":true,\"type\":\"pie\"}]},\"layout\":{\"autotypenumbers\":\"strict\",\"colorway\":[\"#636efa\",\"#EF553B\",\"#00cc96\",\"#ab63fa\",\"#FFA15A\",\"#19d3f3\",\"#FF6692\",\"#B6E880\",\"#FF97FF\",\"#FECB52\"],\"font\":{\"color\":\"#2a3f5f\"},\"hovermode\":\"closest\",\"hoverlabel\":{\"align\":\"left\"},\"paper_bgcolor\":\"white\",\"plot_bgcolor\":\"#E5ECF6\",\"polar\":{\"bgcolor\":\"#E5ECF6\",\"angularaxis\":{\"gridcolor\":\"white\",\"linecolor\":\"white\",\"ticks\":\"\"},\"radialaxis\":{\"gridcolor\":\"white\",\"linecolor\":\"white\",\"ticks\":\"\"}},\"ternary\":{\"bgcolor\":\"#E5ECF6\",\"aaxis\":{\"gridcolor\":\"white\",\"linecolor\":\"white\",\"ticks\":\"\"},\"baxis\":{\"gridcolor\":\"white\",\"linecolor\":\"white\",\"ticks\":\"\"},\"caxis\":{\"gridcolor\":\"white\",\"linecolor\":\"white\",\"ticks\":\"\"}},\"coloraxis\":{\"colorbar\":{\"outlinewidth\":0,\"ticks\":\"\"}},\"colorscale\":{\"sequential\":[[0.0,\"#0d0887\"],[0.1111111111111111,\"#46039f\"],[0.2222222222222222,\"#7201a8\"],[0.3333333333333333,\"#9c179e\"],[0.4444444444444444,\"#bd3786\"],[0.5555555555555556,\"#d8576b\"],[0.6666666666666666,\"#ed7953\"],[0.7777777777777778,\"#fb9f3a\"],[0.8888888888888888,\"#fdca26\"],[1.0,\"#f0f921\"]],\"sequentialminus\":[[0.0,\"#0d0887\"],[0.1111111111111111,\"#46039f\"],[0.2222222222222222,\"#7201a8\"],[0.3333333333333333,\"#9c179e\"],[0.4444444444444444,\"#bd3786\"],[0.5555555555555556,\"#d8576b\"],[0.6666666666666666,\"#ed7953\"],[0.7777777777777778,\"#fb9f3a\"],[0.8888888888888888,\"#fdca26\"],[1.0,\"#f0f921\"]],\"diverging\":[[0,\"#8e0152\"],[0.1,\"#c51b7d\"],[0.2,\"#de77ae\"],[0.3,\"#f1b6da\"],[0.4,\"#fde0ef\"],[0.5,\"#f7f7f7\"],[0.6,\"#e6f5d0\"],[0.7,\"#b8e186\"],[0.8,\"#7fbc41\"],[0.9,\"#4d9221\"],[1,\"#276419\"]]},\"xaxis\":{\"gridcolor\":\"white\",\"linecolor\":\"white\",\"ticks\":\"\",\"title\":{\"standoff\":15},\"zerolinecolor\":\"white\",\"automargin\":true,\"zerolinewidth\":2},\"yaxis\":{\"gridcolor\":\"white\",\"linecolor\":\"white\",\"ticks\":\"\",\"title\":{\"standoff\":15},\"zerolinecolor\":\"white\",\"automargin\":true,\"zerolinewidth\":2},\"scene\":{\"xaxis\":{\"backgroundcolor\":\"#E5ECF6\",\"gridcolor\":\"white\",\"linecolor\":\"white\",\"showbackground\":true,\"ticks\":\"\",\"zerolinecolor\":\"white\",\"gridwidth\":2},\"yaxis\":{\"backgroundcolor\":\"#E5ECF6\",\"gridcolor\":\"white\",\"linecolor\":\"white\",\"showbackground\":true,\"ticks\":\"\",\"zerolinecolor\":\"white\",\"gridwidth\":2},\"zaxis\":{\"backgroundcolor\":\"#E5ECF6\",\"gridcolor\":\"white\",\"linecolor\":\"white\",\"showbackground\":true,\"ticks\":\"\",\"zerolinecolor\":\"white\",\"gridwidth\":2}},\"shapedefaults\":{\"line\":{\"color\":\"#2a3f5f\"}},\"annotationdefaults\":{\"arrowcolor\":\"#2a3f5f\",\"arrowhead\":0,\"arrowwidth\":1},\"geo\":{\"bgcolor\":\"white\",\"landcolor\":\"#E5ECF6\",\"subunitcolor\":\"white\",\"showland\":true,\"showlakes\":true,\"lakecolor\":\"white\"},\"title\":{\"x\":0.05},\"mapbox\":{\"style\":\"light\"}}},\"xaxis\":{\"anchor\":\"y\",\"domain\":[0.0,1.0],\"title\":{\"text\":\"category\"}},\"yaxis\":{\"anchor\":\"x\",\"domain\":[0.0,1.0],\"title\":{\"text\":\"avg of totalwords\"}},\"legend\":{\"tracegroupgap\":0},\"margin\":{\"t\":60},\"barmode\":\"relative\"},                        {\"responsive\": true}                    ).then(function(){\n",
              "                            \n",
              "var gd = document.getElementById('11b392cf-4900-496e-b06b-3d2a28e9787c');\n",
              "var x = new MutationObserver(function (mutations, observer) {{\n",
              "        var display = window.getComputedStyle(gd).display;\n",
              "        if (!display || display === 'none') {{\n",
              "            console.log([gd, 'removed!']);\n",
              "            Plotly.purge(gd);\n",
              "            observer.disconnect();\n",
              "        }}\n",
              "}});\n",
              "\n",
              "// Listen for the removal of the full notebook cells\n",
              "var notebookContainer = gd.closest('#notebook-container');\n",
              "if (notebookContainer) {{\n",
              "    x.observe(notebookContainer, {childList: true});\n",
              "}}\n",
              "\n",
              "// Listen for the clearing of the current output cell\n",
              "var outputEl = gd.closest('.output');\n",
              "if (outputEl) {{\n",
              "    x.observe(outputEl, {childList: true});\n",
              "}}\n",
              "\n",
              "                        })                };                            </script>        </div>\n",
              "</body>\n",
              "</html>"
            ]
          },
          "metadata": {}
        }
      ]
    },
    {
      "cell_type": "code",
      "source": [
        "data[\"category\"]"
      ],
      "metadata": {
        "colab": {
          "base_uri": "https://localhost:8080/",
          "height": 458
        },
        "id": "pcZkrgvgYR-y",
        "outputId": "550633a2-42a7-4fc0-cf8a-99b443c9f293"
      },
      "execution_count": null,
      "outputs": [
        {
          "output_type": "execute_result",
          "data": {
            "text/plain": [
              "0       business\n",
              "1       business\n",
              "2       business\n",
              "3       business\n",
              "4       business\n",
              "          ...   \n",
              "2220        tech\n",
              "2221        tech\n",
              "2222        tech\n",
              "2223        tech\n",
              "2224        tech\n",
              "Name: category, Length: 2225, dtype: object"
            ],
            "text/html": [
              "<div>\n",
              "<style scoped>\n",
              "    .dataframe tbody tr th:only-of-type {\n",
              "        vertical-align: middle;\n",
              "    }\n",
              "\n",
              "    .dataframe tbody tr th {\n",
              "        vertical-align: top;\n",
              "    }\n",
              "\n",
              "    .dataframe thead th {\n",
              "        text-align: right;\n",
              "    }\n",
              "</style>\n",
              "<table border=\"1\" class=\"dataframe\">\n",
              "  <thead>\n",
              "    <tr style=\"text-align: right;\">\n",
              "      <th></th>\n",
              "      <th>category</th>\n",
              "    </tr>\n",
              "  </thead>\n",
              "  <tbody>\n",
              "    <tr>\n",
              "      <th>0</th>\n",
              "      <td>business</td>\n",
              "    </tr>\n",
              "    <tr>\n",
              "      <th>1</th>\n",
              "      <td>business</td>\n",
              "    </tr>\n",
              "    <tr>\n",
              "      <th>2</th>\n",
              "      <td>business</td>\n",
              "    </tr>\n",
              "    <tr>\n",
              "      <th>3</th>\n",
              "      <td>business</td>\n",
              "    </tr>\n",
              "    <tr>\n",
              "      <th>4</th>\n",
              "      <td>business</td>\n",
              "    </tr>\n",
              "    <tr>\n",
              "      <th>...</th>\n",
              "      <td>...</td>\n",
              "    </tr>\n",
              "    <tr>\n",
              "      <th>2220</th>\n",
              "      <td>tech</td>\n",
              "    </tr>\n",
              "    <tr>\n",
              "      <th>2221</th>\n",
              "      <td>tech</td>\n",
              "    </tr>\n",
              "    <tr>\n",
              "      <th>2222</th>\n",
              "      <td>tech</td>\n",
              "    </tr>\n",
              "    <tr>\n",
              "      <th>2223</th>\n",
              "      <td>tech</td>\n",
              "    </tr>\n",
              "    <tr>\n",
              "      <th>2224</th>\n",
              "      <td>tech</td>\n",
              "    </tr>\n",
              "  </tbody>\n",
              "</table>\n",
              "<p>2225 rows × 1 columns</p>\n",
              "</div><br><label><b>dtype:</b> object</label>"
            ]
          },
          "metadata": {},
          "execution_count": 9
        }
      ]
    },
    {
      "cell_type": "code",
      "source": [
        "from sklearn.model_selection import train_test_split\n",
        "\n",
        "X_train, X_test, y_train, y_test = train_test_split(data[\"content\"], data[\"category\"], test_size=0.2, random_state=1)\n",
        "\n",
        "X_train, X_val, y_train, y_val = train_test_split(X_train, y_train, test_size=0.25, random_state=1) # 0.25 x 0.8 = 0.2"
      ],
      "metadata": {
        "id": "FpdaHIaMKgAT"
      },
      "execution_count": null,
      "outputs": []
    },
    {
      "cell_type": "code",
      "source": [
        "y_train.value_counts()"
      ],
      "metadata": {
        "colab": {
          "base_uri": "https://localhost:8080/",
          "height": 272
        },
        "id": "RHVIHvlXIc22",
        "outputId": "6e0268b9-10ec-4026-fd6b-20ab1c47f534"
      },
      "execution_count": null,
      "outputs": [
        {
          "output_type": "execute_result",
          "data": {
            "text/plain": [
              "category\n",
              "business         324\n",
              "sport            308\n",
              "politics         245\n",
              "entertainment    234\n",
              "tech             224\n",
              "Name: count, dtype: int64"
            ],
            "text/html": [
              "<div>\n",
              "<style scoped>\n",
              "    .dataframe tbody tr th:only-of-type {\n",
              "        vertical-align: middle;\n",
              "    }\n",
              "\n",
              "    .dataframe tbody tr th {\n",
              "        vertical-align: top;\n",
              "    }\n",
              "\n",
              "    .dataframe thead th {\n",
              "        text-align: right;\n",
              "    }\n",
              "</style>\n",
              "<table border=\"1\" class=\"dataframe\">\n",
              "  <thead>\n",
              "    <tr style=\"text-align: right;\">\n",
              "      <th></th>\n",
              "      <th>count</th>\n",
              "    </tr>\n",
              "    <tr>\n",
              "      <th>category</th>\n",
              "      <th></th>\n",
              "    </tr>\n",
              "  </thead>\n",
              "  <tbody>\n",
              "    <tr>\n",
              "      <th>business</th>\n",
              "      <td>324</td>\n",
              "    </tr>\n",
              "    <tr>\n",
              "      <th>sport</th>\n",
              "      <td>308</td>\n",
              "    </tr>\n",
              "    <tr>\n",
              "      <th>politics</th>\n",
              "      <td>245</td>\n",
              "    </tr>\n",
              "    <tr>\n",
              "      <th>entertainment</th>\n",
              "      <td>234</td>\n",
              "    </tr>\n",
              "    <tr>\n",
              "      <th>tech</th>\n",
              "      <td>224</td>\n",
              "    </tr>\n",
              "  </tbody>\n",
              "</table>\n",
              "</div><br><label><b>dtype:</b> int64</label>"
            ]
          },
          "metadata": {},
          "execution_count": 11
        }
      ]
    },
    {
      "cell_type": "code",
      "source": [
        "fig4 = px.histogram(y_train, x=\"category\")\n",
        "fig4.write_html(\"texts_categories.html\")\n",
        "fig4.show()"
      ],
      "metadata": {
        "colab": {
          "base_uri": "https://localhost:8080/",
          "height": 542
        },
        "id": "mqk_Xueosxre",
        "outputId": "98fc17c0-2eca-415e-b5e3-9eb2dc4ac20d"
      },
      "execution_count": null,
      "outputs": [
        {
          "output_type": "display_data",
          "data": {
            "text/html": [
              "<html>\n",
              "<head><meta charset=\"utf-8\" /></head>\n",
              "<body>\n",
              "    <div>            <script src=\"https://cdnjs.cloudflare.com/ajax/libs/mathjax/2.7.5/MathJax.js?config=TeX-AMS-MML_SVG\"></script><script type=\"text/javascript\">if (window.MathJax && window.MathJax.Hub && window.MathJax.Hub.Config) {window.MathJax.Hub.Config({SVG: {font: \"STIX-Web\"}});}</script>                <script type=\"text/javascript\">window.PlotlyConfig = {MathJaxConfig: 'local'};</script>\n",
              "        <script charset=\"utf-8\" src=\"https://cdn.plot.ly/plotly-2.24.1.min.js\"></script>                <div id=\"5585eb4a-6a08-408e-a9f6-66076ba90239\" class=\"plotly-graph-div\" style=\"height:525px; width:100%;\"></div>            <script type=\"text/javascript\">                                    window.PLOTLYENV=window.PLOTLYENV || {};                                    if (document.getElementById(\"5585eb4a-6a08-408e-a9f6-66076ba90239\")) {                    Plotly.newPlot(                        \"5585eb4a-6a08-408e-a9f6-66076ba90239\",                        [{\"alignmentgroup\":\"True\",\"bingroup\":\"x\",\"hovertemplate\":\"category=%{x}\\u003cbr\\u003ecount=%{y}\\u003cextra\\u003e\\u003c\\u002fextra\\u003e\",\"legendgroup\":\"\",\"marker\":{\"color\":\"#636efa\",\"pattern\":{\"shape\":\"\"}},\"name\":\"\",\"offsetgroup\":\"\",\"orientation\":\"v\",\"showlegend\":false,\"x\":[\"business\",\"tech\",\"business\",\"sport\",\"entertainment\",\"tech\",\"politics\",\"politics\",\"politics\",\"entertainment\",\"sport\",\"entertainment\",\"sport\",\"entertainment\",\"entertainment\",\"tech\",\"tech\",\"sport\",\"entertainment\",\"sport\",\"entertainment\",\"entertainment\",\"sport\",\"sport\",\"entertainment\",\"politics\",\"sport\",\"tech\",\"business\",\"business\",\"sport\",\"politics\",\"business\",\"sport\",\"entertainment\",\"sport\",\"entertainment\",\"politics\",\"entertainment\",\"tech\",\"entertainment\",\"sport\",\"sport\",\"tech\",\"sport\",\"business\",\"business\",\"sport\",\"tech\",\"sport\",\"entertainment\",\"sport\",\"business\",\"entertainment\",\"tech\",\"entertainment\",\"tech\",\"sport\",\"tech\",\"business\",\"sport\",\"sport\",\"politics\",\"entertainment\",\"sport\",\"politics\",\"entertainment\",\"politics\",\"politics\",\"sport\",\"business\",\"business\",\"sport\",\"entertainment\",\"sport\",\"business\",\"business\",\"tech\",\"tech\",\"sport\",\"sport\",\"business\",\"sport\",\"entertainment\",\"entertainment\",\"business\",\"politics\",\"tech\",\"tech\",\"business\",\"business\",\"entertainment\",\"business\",\"tech\",\"business\",\"business\",\"tech\",\"tech\",\"tech\",\"sport\",\"politics\",\"tech\",\"business\",\"business\",\"business\",\"tech\",\"politics\",\"tech\",\"entertainment\",\"business\",\"business\",\"politics\",\"tech\",\"entertainment\",\"sport\",\"business\",\"sport\",\"politics\",\"politics\",\"politics\",\"sport\",\"sport\",\"politics\",\"sport\",\"business\",\"sport\",\"business\",\"sport\",\"entertainment\",\"business\",\"business\",\"business\",\"business\",\"sport\",\"entertainment\",\"business\",\"tech\",\"business\",\"sport\",\"business\",\"entertainment\",\"tech\",\"entertainment\",\"tech\",\"politics\",\"sport\",\"sport\",\"business\",\"business\",\"politics\",\"business\",\"sport\",\"politics\",\"sport\",\"business\",\"politics\",\"tech\",\"tech\",\"tech\",\"politics\",\"entertainment\",\"sport\",\"sport\",\"entertainment\",\"business\",\"tech\",\"tech\",\"politics\",\"sport\",\"tech\",\"sport\",\"politics\",\"tech\",\"sport\",\"sport\",\"tech\",\"business\",\"entertainment\",\"politics\",\"business\",\"business\",\"entertainment\",\"politics\",\"entertainment\",\"sport\",\"business\",\"entertainment\",\"business\",\"sport\",\"sport\",\"sport\",\"tech\",\"entertainment\",\"business\",\"business\",\"tech\",\"business\",\"tech\",\"business\",\"sport\",\"business\",\"tech\",\"entertainment\",\"politics\",\"politics\",\"politics\",\"tech\",\"business\",\"politics\",\"entertainment\",\"tech\",\"politics\",\"tech\",\"business\",\"politics\",\"politics\",\"entertainment\",\"politics\",\"business\",\"tech\",\"sport\",\"business\",\"sport\",\"politics\",\"entertainment\",\"business\",\"politics\",\"politics\",\"tech\",\"tech\",\"entertainment\",\"business\",\"politics\",\"politics\",\"business\",\"politics\",\"sport\",\"business\",\"business\",\"tech\",\"politics\",\"business\",\"sport\",\"sport\",\"business\",\"tech\",\"entertainment\",\"politics\",\"sport\",\"business\",\"sport\",\"tech\",\"entertainment\",\"tech\",\"business\",\"sport\",\"business\",\"entertainment\",\"business\",\"sport\",\"business\",\"entertainment\",\"business\",\"entertainment\",\"entertainment\",\"business\",\"tech\",\"business\",\"business\",\"politics\",\"business\",\"sport\",\"tech\",\"tech\",\"tech\",\"business\",\"politics\",\"entertainment\",\"tech\",\"business\",\"business\",\"entertainment\",\"sport\",\"entertainment\",\"business\",\"politics\",\"business\",\"entertainment\",\"business\",\"entertainment\",\"politics\",\"tech\",\"tech\",\"politics\",\"sport\",\"business\",\"sport\",\"entertainment\",\"entertainment\",\"tech\",\"sport\",\"business\",\"business\",\"tech\",\"entertainment\",\"sport\",\"entertainment\",\"business\",\"tech\",\"tech\",\"sport\",\"business\",\"tech\",\"politics\",\"politics\",\"politics\",\"business\",\"politics\",\"business\",\"entertainment\",\"entertainment\",\"business\",\"tech\",\"business\",\"entertainment\",\"tech\",\"sport\",\"business\",\"business\",\"politics\",\"politics\",\"business\",\"entertainment\",\"entertainment\",\"entertainment\",\"politics\",\"business\",\"business\",\"business\",\"politics\",\"business\",\"politics\",\"entertainment\",\"politics\",\"entertainment\",\"entertainment\",\"business\",\"business\",\"sport\",\"tech\",\"politics\",\"business\",\"sport\",\"business\",\"entertainment\",\"politics\",\"business\",\"politics\",\"tech\",\"tech\",\"sport\",\"sport\",\"politics\",\"business\",\"sport\",\"tech\",\"business\",\"business\",\"tech\",\"sport\",\"business\",\"sport\",\"politics\",\"politics\",\"tech\",\"entertainment\",\"entertainment\",\"sport\",\"tech\",\"business\",\"politics\",\"tech\",\"sport\",\"business\",\"tech\",\"business\",\"sport\",\"sport\",\"politics\",\"sport\",\"business\",\"politics\",\"entertainment\",\"business\",\"tech\",\"sport\",\"business\",\"tech\",\"politics\",\"entertainment\",\"entertainment\",\"business\",\"sport\",\"tech\",\"business\",\"politics\",\"politics\",\"tech\",\"sport\",\"sport\",\"sport\",\"sport\",\"entertainment\",\"sport\",\"politics\",\"business\",\"sport\",\"politics\",\"politics\",\"tech\",\"sport\",\"tech\",\"sport\",\"entertainment\",\"politics\",\"tech\",\"entertainment\",\"business\",\"business\",\"sport\",\"sport\",\"sport\",\"sport\",\"sport\",\"business\",\"sport\",\"entertainment\",\"sport\",\"business\",\"tech\",\"politics\",\"sport\",\"business\",\"politics\",\"sport\",\"sport\",\"entertainment\",\"sport\",\"entertainment\",\"business\",\"politics\",\"entertainment\",\"business\",\"sport\",\"sport\",\"sport\",\"sport\",\"sport\",\"business\",\"sport\",\"sport\",\"sport\",\"politics\",\"tech\",\"sport\",\"sport\",\"tech\",\"entertainment\",\"business\",\"tech\",\"entertainment\",\"business\",\"entertainment\",\"tech\",\"politics\",\"entertainment\",\"business\",\"tech\",\"business\",\"business\",\"business\",\"business\",\"tech\",\"entertainment\",\"sport\",\"entertainment\",\"politics\",\"tech\",\"politics\",\"business\",\"politics\",\"politics\",\"business\",\"sport\",\"tech\",\"entertainment\",\"business\",\"sport\",\"entertainment\",\"tech\",\"politics\",\"tech\",\"politics\",\"politics\",\"sport\",\"politics\",\"sport\",\"tech\",\"sport\",\"business\",\"business\",\"entertainment\",\"sport\",\"sport\",\"tech\",\"business\",\"sport\",\"entertainment\",\"business\",\"tech\",\"sport\",\"sport\",\"entertainment\",\"business\",\"tech\",\"politics\",\"sport\",\"sport\",\"sport\",\"sport\",\"entertainment\",\"politics\",\"business\",\"politics\",\"business\",\"tech\",\"tech\",\"business\",\"business\",\"politics\",\"tech\",\"sport\",\"entertainment\",\"tech\",\"entertainment\",\"sport\",\"entertainment\",\"sport\",\"tech\",\"business\",\"entertainment\",\"entertainment\",\"politics\",\"entertainment\",\"tech\",\"tech\",\"politics\",\"politics\",\"entertainment\",\"business\",\"entertainment\",\"politics\",\"sport\",\"business\",\"tech\",\"business\",\"entertainment\",\"business\",\"politics\",\"tech\",\"business\",\"entertainment\",\"politics\",\"business\",\"tech\",\"sport\",\"politics\",\"politics\",\"entertainment\",\"business\",\"sport\",\"sport\",\"sport\",\"business\",\"politics\",\"sport\",\"sport\",\"tech\",\"entertainment\",\"entertainment\",\"business\",\"entertainment\",\"sport\",\"sport\",\"sport\",\"politics\",\"sport\",\"entertainment\",\"sport\",\"politics\",\"tech\",\"sport\",\"sport\",\"sport\",\"sport\",\"tech\",\"business\",\"politics\",\"sport\",\"business\",\"politics\",\"politics\",\"business\",\"entertainment\",\"tech\",\"tech\",\"politics\",\"sport\",\"sport\",\"sport\",\"tech\",\"politics\",\"entertainment\",\"entertainment\",\"tech\",\"entertainment\",\"tech\",\"sport\",\"business\",\"tech\",\"entertainment\",\"sport\",\"entertainment\",\"entertainment\",\"sport\",\"tech\",\"sport\",\"tech\",\"entertainment\",\"business\",\"business\",\"entertainment\",\"entertainment\",\"sport\",\"tech\",\"sport\",\"sport\",\"entertainment\",\"sport\",\"tech\",\"politics\",\"business\",\"entertainment\",\"tech\",\"tech\",\"entertainment\",\"business\",\"sport\",\"business\",\"sport\",\"tech\",\"business\",\"business\",\"business\",\"tech\",\"sport\",\"business\",\"business\",\"tech\",\"politics\",\"business\",\"business\",\"politics\",\"entertainment\",\"entertainment\",\"sport\",\"tech\",\"politics\",\"entertainment\",\"sport\",\"business\",\"entertainment\",\"business\",\"sport\",\"sport\",\"business\",\"tech\",\"tech\",\"sport\",\"business\",\"tech\",\"politics\",\"business\",\"politics\",\"entertainment\",\"politics\",\"business\",\"entertainment\",\"business\",\"politics\",\"entertainment\",\"politics\",\"politics\",\"entertainment\",\"entertainment\",\"sport\",\"politics\",\"sport\",\"business\",\"entertainment\",\"business\",\"sport\",\"sport\",\"business\",\"sport\",\"tech\",\"sport\",\"politics\",\"sport\",\"sport\",\"politics\",\"business\",\"business\",\"tech\",\"politics\",\"sport\",\"business\",\"business\",\"tech\",\"tech\",\"business\",\"politics\",\"entertainment\",\"politics\",\"sport\",\"entertainment\",\"business\",\"sport\",\"sport\",\"business\",\"politics\",\"business\",\"tech\",\"business\",\"sport\",\"sport\",\"entertainment\",\"entertainment\",\"entertainment\",\"politics\",\"entertainment\",\"business\",\"entertainment\",\"entertainment\",\"politics\",\"tech\",\"business\",\"entertainment\",\"sport\",\"entertainment\",\"business\",\"politics\",\"sport\",\"sport\",\"sport\",\"tech\",\"business\",\"sport\",\"entertainment\",\"politics\",\"politics\",\"politics\",\"tech\",\"politics\",\"sport\",\"sport\",\"tech\",\"tech\",\"business\",\"tech\",\"sport\",\"tech\",\"politics\",\"politics\",\"sport\",\"politics\",\"sport\",\"business\",\"politics\",\"entertainment\",\"tech\",\"sport\",\"sport\",\"tech\",\"tech\",\"politics\",\"business\",\"politics\",\"sport\",\"sport\",\"entertainment\",\"sport\",\"politics\",\"sport\",\"business\",\"tech\",\"politics\",\"tech\",\"business\",\"business\",\"tech\",\"politics\",\"entertainment\",\"sport\",\"entertainment\",\"business\",\"politics\",\"tech\",\"politics\",\"business\",\"entertainment\",\"sport\",\"politics\",\"politics\",\"tech\",\"business\",\"business\",\"business\",\"sport\",\"business\",\"business\",\"business\",\"business\",\"politics\",\"sport\",\"business\",\"sport\",\"sport\",\"politics\",\"sport\",\"politics\",\"politics\",\"sport\",\"tech\",\"sport\",\"entertainment\",\"entertainment\",\"sport\",\"entertainment\",\"politics\",\"business\",\"tech\",\"entertainment\",\"sport\",\"business\",\"politics\",\"business\",\"sport\",\"politics\",\"entertainment\",\"sport\",\"tech\",\"business\",\"business\",\"tech\",\"politics\",\"politics\",\"business\",\"sport\",\"politics\",\"business\",\"entertainment\",\"politics\",\"sport\",\"politics\",\"entertainment\",\"business\",\"business\",\"sport\",\"business\",\"sport\",\"politics\",\"politics\",\"entertainment\",\"business\",\"business\",\"business\",\"tech\",\"sport\",\"politics\",\"tech\",\"sport\",\"business\",\"sport\",\"tech\",\"tech\",\"entertainment\",\"business\",\"politics\",\"business\",\"tech\",\"sport\",\"tech\",\"business\",\"sport\",\"entertainment\",\"tech\",\"politics\",\"politics\",\"entertainment\",\"entertainment\",\"entertainment\",\"politics\",\"business\",\"entertainment\",\"tech\",\"politics\",\"tech\",\"politics\",\"politics\",\"entertainment\",\"business\",\"politics\",\"tech\",\"politics\",\"politics\",\"sport\",\"business\",\"entertainment\",\"business\",\"business\",\"business\",\"sport\",\"sport\",\"politics\",\"entertainment\",\"tech\",\"tech\",\"sport\",\"entertainment\",\"business\",\"sport\",\"sport\",\"tech\",\"sport\",\"politics\",\"sport\",\"sport\",\"sport\",\"sport\",\"business\",\"politics\",\"tech\",\"entertainment\",\"tech\",\"tech\",\"tech\",\"entertainment\",\"tech\",\"politics\",\"business\",\"sport\",\"politics\",\"tech\",\"tech\",\"entertainment\",\"entertainment\",\"politics\",\"business\",\"business\",\"tech\",\"sport\",\"sport\",\"sport\",\"entertainment\",\"entertainment\",\"entertainment\",\"entertainment\",\"sport\",\"business\",\"sport\",\"sport\",\"sport\",\"sport\",\"politics\",\"business\",\"entertainment\",\"business\",\"business\",\"business\",\"sport\",\"sport\",\"tech\",\"business\",\"business\",\"sport\",\"politics\",\"tech\",\"tech\",\"business\",\"sport\",\"tech\",\"politics\",\"sport\",\"business\",\"politics\",\"business\",\"politics\",\"sport\",\"sport\",\"tech\",\"politics\",\"sport\",\"entertainment\",\"sport\",\"tech\",\"business\",\"entertainment\",\"entertainment\",\"politics\",\"politics\",\"business\",\"business\",\"sport\",\"politics\",\"entertainment\",\"sport\",\"sport\",\"entertainment\",\"tech\",\"entertainment\",\"entertainment\",\"tech\",\"politics\",\"business\",\"entertainment\",\"sport\",\"politics\",\"business\",\"entertainment\",\"business\",\"business\",\"entertainment\",\"entertainment\",\"politics\",\"entertainment\",\"politics\",\"entertainment\",\"sport\",\"tech\",\"tech\",\"business\",\"politics\",\"entertainment\",\"sport\",\"entertainment\",\"business\",\"sport\",\"politics\",\"business\",\"politics\",\"business\",\"politics\",\"sport\",\"business\",\"sport\",\"entertainment\",\"business\",\"sport\",\"business\",\"politics\",\"business\",\"business\",\"tech\",\"politics\",\"sport\",\"tech\",\"business\",\"business\",\"entertainment\",\"tech\",\"business\",\"business\",\"politics\",\"entertainment\",\"politics\",\"entertainment\",\"politics\",\"business\",\"politics\",\"tech\",\"entertainment\",\"entertainment\",\"tech\",\"tech\",\"business\",\"business\",\"business\",\"entertainment\",\"politics\",\"entertainment\",\"business\",\"entertainment\",\"sport\",\"tech\",\"sport\",\"entertainment\",\"politics\",\"sport\",\"tech\",\"business\",\"business\",\"tech\",\"business\",\"politics\",\"business\",\"tech\",\"business\",\"politics\",\"sport\",\"sport\",\"sport\",\"politics\",\"tech\",\"sport\",\"tech\",\"politics\",\"business\",\"sport\",\"sport\",\"entertainment\",\"entertainment\",\"sport\",\"tech\",\"sport\",\"tech\",\"business\",\"entertainment\",\"sport\",\"business\",\"sport\",\"business\",\"business\",\"politics\",\"business\",\"sport\",\"tech\",\"tech\",\"sport\",\"sport\",\"politics\",\"tech\",\"entertainment\",\"entertainment\",\"entertainment\",\"business\",\"politics\",\"tech\",\"sport\",\"politics\",\"business\",\"politics\",\"entertainment\",\"sport\",\"business\",\"business\",\"sport\",\"sport\",\"entertainment\",\"sport\",\"entertainment\",\"politics\",\"tech\",\"politics\",\"tech\",\"business\",\"business\",\"tech\",\"business\",\"tech\",\"business\",\"tech\",\"business\",\"sport\",\"sport\",\"entertainment\",\"sport\",\"tech\",\"sport\",\"politics\",\"entertainment\",\"business\",\"politics\",\"tech\",\"politics\",\"entertainment\",\"sport\",\"politics\",\"tech\",\"politics\",\"business\",\"business\",\"politics\",\"sport\",\"entertainment\",\"tech\",\"tech\",\"sport\",\"politics\",\"business\",\"sport\",\"entertainment\",\"business\",\"politics\",\"politics\",\"sport\",\"business\",\"entertainment\",\"tech\",\"politics\",\"politics\",\"entertainment\",\"politics\",\"politics\",\"sport\",\"business\",\"business\",\"business\",\"politics\",\"business\",\"entertainment\",\"business\",\"sport\",\"business\",\"politics\",\"tech\",\"politics\",\"sport\",\"business\",\"entertainment\",\"politics\",\"business\",\"entertainment\",\"tech\",\"business\",\"sport\",\"politics\",\"entertainment\",\"business\",\"politics\",\"sport\",\"politics\",\"sport\",\"business\",\"sport\",\"entertainment\",\"entertainment\",\"entertainment\",\"entertainment\",\"sport\",\"tech\",\"tech\",\"entertainment\",\"business\",\"politics\",\"business\",\"entertainment\",\"tech\",\"tech\",\"entertainment\",\"business\",\"politics\",\"business\",\"sport\",\"entertainment\",\"tech\",\"business\",\"politics\",\"sport\",\"business\",\"entertainment\",\"tech\",\"business\",\"sport\",\"tech\",\"sport\",\"business\",\"politics\",\"sport\",\"entertainment\",\"entertainment\",\"politics\",\"business\",\"business\",\"business\",\"sport\",\"sport\",\"tech\",\"politics\",\"entertainment\",\"tech\",\"sport\",\"entertainment\",\"entertainment\",\"tech\",\"entertainment\",\"business\",\"business\",\"business\",\"politics\",\"sport\",\"tech\",\"sport\",\"tech\",\"politics\",\"sport\",\"business\",\"sport\",\"entertainment\",\"business\",\"politics\",\"politics\",\"tech\",\"business\",\"politics\",\"entertainment\",\"politics\",\"business\",\"politics\",\"business\",\"entertainment\",\"business\",\"business\",\"politics\",\"entertainment\"],\"xaxis\":\"x\",\"yaxis\":\"y\",\"type\":\"histogram\"}],                        {\"template\":{\"data\":{\"histogram2dcontour\":[{\"type\":\"histogram2dcontour\",\"colorbar\":{\"outlinewidth\":0,\"ticks\":\"\"},\"colorscale\":[[0.0,\"#0d0887\"],[0.1111111111111111,\"#46039f\"],[0.2222222222222222,\"#7201a8\"],[0.3333333333333333,\"#9c179e\"],[0.4444444444444444,\"#bd3786\"],[0.5555555555555556,\"#d8576b\"],[0.6666666666666666,\"#ed7953\"],[0.7777777777777778,\"#fb9f3a\"],[0.8888888888888888,\"#fdca26\"],[1.0,\"#f0f921\"]]}],\"choropleth\":[{\"type\":\"choropleth\",\"colorbar\":{\"outlinewidth\":0,\"ticks\":\"\"}}],\"histogram2d\":[{\"type\":\"histogram2d\",\"colorbar\":{\"outlinewidth\":0,\"ticks\":\"\"},\"colorscale\":[[0.0,\"#0d0887\"],[0.1111111111111111,\"#46039f\"],[0.2222222222222222,\"#7201a8\"],[0.3333333333333333,\"#9c179e\"],[0.4444444444444444,\"#bd3786\"],[0.5555555555555556,\"#d8576b\"],[0.6666666666666666,\"#ed7953\"],[0.7777777777777778,\"#fb9f3a\"],[0.8888888888888888,\"#fdca26\"],[1.0,\"#f0f921\"]]}],\"heatmap\":[{\"type\":\"heatmap\",\"colorbar\":{\"outlinewidth\":0,\"ticks\":\"\"},\"colorscale\":[[0.0,\"#0d0887\"],[0.1111111111111111,\"#46039f\"],[0.2222222222222222,\"#7201a8\"],[0.3333333333333333,\"#9c179e\"],[0.4444444444444444,\"#bd3786\"],[0.5555555555555556,\"#d8576b\"],[0.6666666666666666,\"#ed7953\"],[0.7777777777777778,\"#fb9f3a\"],[0.8888888888888888,\"#fdca26\"],[1.0,\"#f0f921\"]]}],\"heatmapgl\":[{\"type\":\"heatmapgl\",\"colorbar\":{\"outlinewidth\":0,\"ticks\":\"\"},\"colorscale\":[[0.0,\"#0d0887\"],[0.1111111111111111,\"#46039f\"],[0.2222222222222222,\"#7201a8\"],[0.3333333333333333,\"#9c179e\"],[0.4444444444444444,\"#bd3786\"],[0.5555555555555556,\"#d8576b\"],[0.6666666666666666,\"#ed7953\"],[0.7777777777777778,\"#fb9f3a\"],[0.8888888888888888,\"#fdca26\"],[1.0,\"#f0f921\"]]}],\"contourcarpet\":[{\"type\":\"contourcarpet\",\"colorbar\":{\"outlinewidth\":0,\"ticks\":\"\"}}],\"contour\":[{\"type\":\"contour\",\"colorbar\":{\"outlinewidth\":0,\"ticks\":\"\"},\"colorscale\":[[0.0,\"#0d0887\"],[0.1111111111111111,\"#46039f\"],[0.2222222222222222,\"#7201a8\"],[0.3333333333333333,\"#9c179e\"],[0.4444444444444444,\"#bd3786\"],[0.5555555555555556,\"#d8576b\"],[0.6666666666666666,\"#ed7953\"],[0.7777777777777778,\"#fb9f3a\"],[0.8888888888888888,\"#fdca26\"],[1.0,\"#f0f921\"]]}],\"surface\":[{\"type\":\"surface\",\"colorbar\":{\"outlinewidth\":0,\"ticks\":\"\"},\"colorscale\":[[0.0,\"#0d0887\"],[0.1111111111111111,\"#46039f\"],[0.2222222222222222,\"#7201a8\"],[0.3333333333333333,\"#9c179e\"],[0.4444444444444444,\"#bd3786\"],[0.5555555555555556,\"#d8576b\"],[0.6666666666666666,\"#ed7953\"],[0.7777777777777778,\"#fb9f3a\"],[0.8888888888888888,\"#fdca26\"],[1.0,\"#f0f921\"]]}],\"mesh3d\":[{\"type\":\"mesh3d\",\"colorbar\":{\"outlinewidth\":0,\"ticks\":\"\"}}],\"scatter\":[{\"fillpattern\":{\"fillmode\":\"overlay\",\"size\":10,\"solidity\":0.2},\"type\":\"scatter\"}],\"parcoords\":[{\"type\":\"parcoords\",\"line\":{\"colorbar\":{\"outlinewidth\":0,\"ticks\":\"\"}}}],\"scatterpolargl\":[{\"type\":\"scatterpolargl\",\"marker\":{\"colorbar\":{\"outlinewidth\":0,\"ticks\":\"\"}}}],\"bar\":[{\"error_x\":{\"color\":\"#2a3f5f\"},\"error_y\":{\"color\":\"#2a3f5f\"},\"marker\":{\"line\":{\"color\":\"#E5ECF6\",\"width\":0.5},\"pattern\":{\"fillmode\":\"overlay\",\"size\":10,\"solidity\":0.2}},\"type\":\"bar\"}],\"scattergeo\":[{\"type\":\"scattergeo\",\"marker\":{\"colorbar\":{\"outlinewidth\":0,\"ticks\":\"\"}}}],\"scatterpolar\":[{\"type\":\"scatterpolar\",\"marker\":{\"colorbar\":{\"outlinewidth\":0,\"ticks\":\"\"}}}],\"histogram\":[{\"marker\":{\"pattern\":{\"fillmode\":\"overlay\",\"size\":10,\"solidity\":0.2}},\"type\":\"histogram\"}],\"scattergl\":[{\"type\":\"scattergl\",\"marker\":{\"colorbar\":{\"outlinewidth\":0,\"ticks\":\"\"}}}],\"scatter3d\":[{\"type\":\"scatter3d\",\"line\":{\"colorbar\":{\"outlinewidth\":0,\"ticks\":\"\"}},\"marker\":{\"colorbar\":{\"outlinewidth\":0,\"ticks\":\"\"}}}],\"scattermapbox\":[{\"type\":\"scattermapbox\",\"marker\":{\"colorbar\":{\"outlinewidth\":0,\"ticks\":\"\"}}}],\"scatterternary\":[{\"type\":\"scatterternary\",\"marker\":{\"colorbar\":{\"outlinewidth\":0,\"ticks\":\"\"}}}],\"scattercarpet\":[{\"type\":\"scattercarpet\",\"marker\":{\"colorbar\":{\"outlinewidth\":0,\"ticks\":\"\"}}}],\"carpet\":[{\"aaxis\":{\"endlinecolor\":\"#2a3f5f\",\"gridcolor\":\"white\",\"linecolor\":\"white\",\"minorgridcolor\":\"white\",\"startlinecolor\":\"#2a3f5f\"},\"baxis\":{\"endlinecolor\":\"#2a3f5f\",\"gridcolor\":\"white\",\"linecolor\":\"white\",\"minorgridcolor\":\"white\",\"startlinecolor\":\"#2a3f5f\"},\"type\":\"carpet\"}],\"table\":[{\"cells\":{\"fill\":{\"color\":\"#EBF0F8\"},\"line\":{\"color\":\"white\"}},\"header\":{\"fill\":{\"color\":\"#C8D4E3\"},\"line\":{\"color\":\"white\"}},\"type\":\"table\"}],\"barpolar\":[{\"marker\":{\"line\":{\"color\":\"#E5ECF6\",\"width\":0.5},\"pattern\":{\"fillmode\":\"overlay\",\"size\":10,\"solidity\":0.2}},\"type\":\"barpolar\"}],\"pie\":[{\"automargin\":true,\"type\":\"pie\"}]},\"layout\":{\"autotypenumbers\":\"strict\",\"colorway\":[\"#636efa\",\"#EF553B\",\"#00cc96\",\"#ab63fa\",\"#FFA15A\",\"#19d3f3\",\"#FF6692\",\"#B6E880\",\"#FF97FF\",\"#FECB52\"],\"font\":{\"color\":\"#2a3f5f\"},\"hovermode\":\"closest\",\"hoverlabel\":{\"align\":\"left\"},\"paper_bgcolor\":\"white\",\"plot_bgcolor\":\"#E5ECF6\",\"polar\":{\"bgcolor\":\"#E5ECF6\",\"angularaxis\":{\"gridcolor\":\"white\",\"linecolor\":\"white\",\"ticks\":\"\"},\"radialaxis\":{\"gridcolor\":\"white\",\"linecolor\":\"white\",\"ticks\":\"\"}},\"ternary\":{\"bgcolor\":\"#E5ECF6\",\"aaxis\":{\"gridcolor\":\"white\",\"linecolor\":\"white\",\"ticks\":\"\"},\"baxis\":{\"gridcolor\":\"white\",\"linecolor\":\"white\",\"ticks\":\"\"},\"caxis\":{\"gridcolor\":\"white\",\"linecolor\":\"white\",\"ticks\":\"\"}},\"coloraxis\":{\"colorbar\":{\"outlinewidth\":0,\"ticks\":\"\"}},\"colorscale\":{\"sequential\":[[0.0,\"#0d0887\"],[0.1111111111111111,\"#46039f\"],[0.2222222222222222,\"#7201a8\"],[0.3333333333333333,\"#9c179e\"],[0.4444444444444444,\"#bd3786\"],[0.5555555555555556,\"#d8576b\"],[0.6666666666666666,\"#ed7953\"],[0.7777777777777778,\"#fb9f3a\"],[0.8888888888888888,\"#fdca26\"],[1.0,\"#f0f921\"]],\"sequentialminus\":[[0.0,\"#0d0887\"],[0.1111111111111111,\"#46039f\"],[0.2222222222222222,\"#7201a8\"],[0.3333333333333333,\"#9c179e\"],[0.4444444444444444,\"#bd3786\"],[0.5555555555555556,\"#d8576b\"],[0.6666666666666666,\"#ed7953\"],[0.7777777777777778,\"#fb9f3a\"],[0.8888888888888888,\"#fdca26\"],[1.0,\"#f0f921\"]],\"diverging\":[[0,\"#8e0152\"],[0.1,\"#c51b7d\"],[0.2,\"#de77ae\"],[0.3,\"#f1b6da\"],[0.4,\"#fde0ef\"],[0.5,\"#f7f7f7\"],[0.6,\"#e6f5d0\"],[0.7,\"#b8e186\"],[0.8,\"#7fbc41\"],[0.9,\"#4d9221\"],[1,\"#276419\"]]},\"xaxis\":{\"gridcolor\":\"white\",\"linecolor\":\"white\",\"ticks\":\"\",\"title\":{\"standoff\":15},\"zerolinecolor\":\"white\",\"automargin\":true,\"zerolinewidth\":2},\"yaxis\":{\"gridcolor\":\"white\",\"linecolor\":\"white\",\"ticks\":\"\",\"title\":{\"standoff\":15},\"zerolinecolor\":\"white\",\"automargin\":true,\"zerolinewidth\":2},\"scene\":{\"xaxis\":{\"backgroundcolor\":\"#E5ECF6\",\"gridcolor\":\"white\",\"linecolor\":\"white\",\"showbackground\":true,\"ticks\":\"\",\"zerolinecolor\":\"white\",\"gridwidth\":2},\"yaxis\":{\"backgroundcolor\":\"#E5ECF6\",\"gridcolor\":\"white\",\"linecolor\":\"white\",\"showbackground\":true,\"ticks\":\"\",\"zerolinecolor\":\"white\",\"gridwidth\":2},\"zaxis\":{\"backgroundcolor\":\"#E5ECF6\",\"gridcolor\":\"white\",\"linecolor\":\"white\",\"showbackground\":true,\"ticks\":\"\",\"zerolinecolor\":\"white\",\"gridwidth\":2}},\"shapedefaults\":{\"line\":{\"color\":\"#2a3f5f\"}},\"annotationdefaults\":{\"arrowcolor\":\"#2a3f5f\",\"arrowhead\":0,\"arrowwidth\":1},\"geo\":{\"bgcolor\":\"white\",\"landcolor\":\"#E5ECF6\",\"subunitcolor\":\"white\",\"showland\":true,\"showlakes\":true,\"lakecolor\":\"white\"},\"title\":{\"x\":0.05},\"mapbox\":{\"style\":\"light\"}}},\"xaxis\":{\"anchor\":\"y\",\"domain\":[0.0,1.0],\"title\":{\"text\":\"category\"}},\"yaxis\":{\"anchor\":\"x\",\"domain\":[0.0,1.0],\"title\":{\"text\":\"count\"}},\"legend\":{\"tracegroupgap\":0},\"margin\":{\"t\":60},\"barmode\":\"relative\"},                        {\"responsive\": true}                    ).then(function(){\n",
              "                            \n",
              "var gd = document.getElementById('5585eb4a-6a08-408e-a9f6-66076ba90239');\n",
              "var x = new MutationObserver(function (mutations, observer) {{\n",
              "        var display = window.getComputedStyle(gd).display;\n",
              "        if (!display || display === 'none') {{\n",
              "            console.log([gd, 'removed!']);\n",
              "            Plotly.purge(gd);\n",
              "            observer.disconnect();\n",
              "        }}\n",
              "}});\n",
              "\n",
              "// Listen for the removal of the full notebook cells\n",
              "var notebookContainer = gd.closest('#notebook-container');\n",
              "if (notebookContainer) {{\n",
              "    x.observe(notebookContainer, {childList: true});\n",
              "}}\n",
              "\n",
              "// Listen for the clearing of the current output cell\n",
              "var outputEl = gd.closest('.output');\n",
              "if (outputEl) {{\n",
              "    x.observe(outputEl, {childList: true});\n",
              "}}\n",
              "\n",
              "                        })                };                            </script>        </div>\n",
              "</body>\n",
              "</html>"
            ]
          },
          "metadata": {}
        }
      ]
    },
    {
      "cell_type": "code",
      "source": [
        "fig2 = px.pie(data, values=\"totalwords\", names='category')\n",
        "fig2.show()\n",
        "fig2.write_html(\"overview_words_category.html\")"
      ],
      "metadata": {
        "colab": {
          "base_uri": "https://localhost:8080/",
          "height": 542
        },
        "id": "BHZLsuXDp38B",
        "outputId": "1d599eab-65d7-419b-b9ac-10c62cec1d1d"
      },
      "execution_count": null,
      "outputs": [
        {
          "output_type": "display_data",
          "data": {
            "text/html": [
              "<html>\n",
              "<head><meta charset=\"utf-8\" /></head>\n",
              "<body>\n",
              "    <div>            <script src=\"https://cdnjs.cloudflare.com/ajax/libs/mathjax/2.7.5/MathJax.js?config=TeX-AMS-MML_SVG\"></script><script type=\"text/javascript\">if (window.MathJax && window.MathJax.Hub && window.MathJax.Hub.Config) {window.MathJax.Hub.Config({SVG: {font: \"STIX-Web\"}});}</script>                <script type=\"text/javascript\">window.PlotlyConfig = {MathJaxConfig: 'local'};</script>\n",
              "        <script charset=\"utf-8\" src=\"https://cdn.plot.ly/plotly-2.24.1.min.js\"></script>                <div id=\"6a8e608a-b9e1-4988-87c7-8090771cc852\" class=\"plotly-graph-div\" style=\"height:525px; width:100%;\"></div>            <script type=\"text/javascript\">                                    window.PLOTLYENV=window.PLOTLYENV || {};                                    if (document.getElementById(\"6a8e608a-b9e1-4988-87c7-8090771cc852\")) {                    Plotly.newPlot(                        \"6a8e608a-b9e1-4988-87c7-8090771cc852\",                        [{\"domain\":{\"x\":[0.0,1.0],\"y\":[0.0,1.0]},\"hovertemplate\":\"category=%{label}\\u003cbr\\u003etotalwords=%{value}\\u003cextra\\u003e\\u003c\\u002fextra\\u003e\",\"labels\":[\"business\",\"business\",\"business\",\"business\",\"business\",\"business\",\"business\",\"business\",\"business\",\"business\",\"business\",\"business\",\"business\",\"business\",\"business\",\"business\",\"business\",\"business\",\"business\",\"business\",\"business\",\"business\",\"business\",\"business\",\"business\",\"business\",\"business\",\"business\",\"business\",\"business\",\"business\",\"business\",\"business\",\"business\",\"business\",\"business\",\"business\",\"business\",\"business\",\"business\",\"business\",\"business\",\"business\",\"business\",\"business\",\"business\",\"business\",\"business\",\"business\",\"business\",\"business\",\"business\",\"business\",\"business\",\"business\",\"business\",\"business\",\"business\",\"business\",\"business\",\"business\",\"business\",\"business\",\"business\",\"business\",\"business\",\"business\",\"business\",\"business\",\"business\",\"business\",\"business\",\"business\",\"business\",\"business\",\"business\",\"business\",\"business\",\"business\",\"business\",\"business\",\"business\",\"business\",\"business\",\"business\",\"business\",\"business\",\"business\",\"business\",\"business\",\"business\",\"business\",\"business\",\"business\",\"business\",\"business\",\"business\",\"business\",\"business\",\"business\",\"business\",\"business\",\"business\",\"business\",\"business\",\"business\",\"business\",\"business\",\"business\",\"business\",\"business\",\"business\",\"business\",\"business\",\"business\",\"business\",\"business\",\"business\",\"business\",\"business\",\"business\",\"business\",\"business\",\"business\",\"business\",\"business\",\"business\",\"business\",\"business\",\"business\",\"business\",\"business\",\"business\",\"business\",\"business\",\"business\",\"business\",\"business\",\"business\",\"business\",\"business\",\"business\",\"business\",\"business\",\"business\",\"business\",\"business\",\"business\",\"business\",\"business\",\"business\",\"business\",\"business\",\"business\",\"business\",\"business\",\"business\",\"business\",\"business\",\"business\",\"business\",\"business\",\"business\",\"business\",\"business\",\"business\",\"business\",\"business\",\"business\",\"business\",\"business\",\"business\",\"business\",\"business\",\"business\",\"business\",\"business\",\"business\",\"business\",\"business\",\"business\",\"business\",\"business\",\"business\",\"business\",\"business\",\"business\",\"business\",\"business\",\"business\",\"business\",\"business\",\"business\",\"business\",\"business\",\"business\",\"business\",\"business\",\"business\",\"business\",\"business\",\"business\",\"business\",\"business\",\"business\",\"business\",\"business\",\"business\",\"business\",\"business\",\"business\",\"business\",\"business\",\"business\",\"business\",\"business\",\"business\",\"business\",\"business\",\"business\",\"business\",\"business\",\"business\",\"business\",\"business\",\"business\",\"business\",\"business\",\"business\",\"business\",\"business\",\"business\",\"business\",\"business\",\"business\",\"business\",\"business\",\"business\",\"business\",\"business\",\"business\",\"business\",\"business\",\"business\",\"business\",\"business\",\"business\",\"business\",\"business\",\"business\",\"business\",\"business\",\"business\",\"business\",\"business\",\"business\",\"business\",\"business\",\"business\",\"business\",\"business\",\"business\",\"business\",\"business\",\"business\",\"business\",\"business\",\"business\",\"business\",\"business\",\"business\",\"business\",\"business\",\"business\",\"business\",\"business\",\"business\",\"business\",\"business\",\"business\",\"business\",\"business\",\"business\",\"business\",\"business\",\"business\",\"business\",\"business\",\"business\",\"business\",\"business\",\"business\",\"business\",\"business\",\"business\",\"business\",\"business\",\"business\",\"business\",\"business\",\"business\",\"business\",\"business\",\"business\",\"business\",\"business\",\"business\",\"business\",\"business\",\"business\",\"business\",\"business\",\"business\",\"business\",\"business\",\"business\",\"business\",\"business\",\"business\",\"business\",\"business\",\"business\",\"business\",\"business\",\"business\",\"business\",\"business\",\"business\",\"business\",\"business\",\"business\",\"business\",\"business\",\"business\",\"business\",\"business\",\"business\",\"business\",\"business\",\"business\",\"business\",\"business\",\"business\",\"business\",\"business\",\"business\",\"business\",\"business\",\"business\",\"business\",\"business\",\"business\",\"business\",\"business\",\"business\",\"business\",\"business\",\"business\",\"business\",\"business\",\"business\",\"business\",\"business\",\"business\",\"business\",\"business\",\"business\",\"business\",\"business\",\"business\",\"business\",\"business\",\"business\",\"business\",\"business\",\"business\",\"business\",\"business\",\"business\",\"business\",\"business\",\"business\",\"business\",\"business\",\"business\",\"business\",\"business\",\"business\",\"business\",\"business\",\"business\",\"business\",\"business\",\"business\",\"business\",\"business\",\"business\",\"business\",\"business\",\"business\",\"business\",\"business\",\"business\",\"business\",\"business\",\"business\",\"business\",\"business\",\"business\",\"business\",\"business\",\"business\",\"business\",\"business\",\"business\",\"business\",\"business\",\"business\",\"business\",\"business\",\"business\",\"business\",\"business\",\"business\",\"business\",\"business\",\"business\",\"business\",\"business\",\"business\",\"business\",\"business\",\"business\",\"business\",\"business\",\"business\",\"business\",\"business\",\"business\",\"business\",\"business\",\"business\",\"business\",\"business\",\"business\",\"business\",\"business\",\"business\",\"business\",\"business\",\"business\",\"business\",\"business\",\"business\",\"business\",\"business\",\"business\",\"business\",\"business\",\"business\",\"business\",\"business\",\"business\",\"business\",\"business\",\"business\",\"business\",\"business\",\"business\",\"business\",\"business\",\"business\",\"business\",\"business\",\"business\",\"business\",\"business\",\"business\",\"business\",\"business\",\"business\",\"business\",\"business\",\"business\",\"business\",\"business\",\"business\",\"business\",\"business\",\"business\",\"business\",\"business\",\"business\",\"business\",\"business\",\"business\",\"business\",\"business\",\"business\",\"business\",\"business\",\"business\",\"business\",\"business\",\"business\",\"business\",\"business\",\"business\",\"business\",\"business\",\"entertainment\",\"entertainment\",\"entertainment\",\"entertainment\",\"entertainment\",\"entertainment\",\"entertainment\",\"entertainment\",\"entertainment\",\"entertainment\",\"entertainment\",\"entertainment\",\"entertainment\",\"entertainment\",\"entertainment\",\"entertainment\",\"entertainment\",\"entertainment\",\"entertainment\",\"entertainment\",\"entertainment\",\"entertainment\",\"entertainment\",\"entertainment\",\"entertainment\",\"entertainment\",\"entertainment\",\"entertainment\",\"entertainment\",\"entertainment\",\"entertainment\",\"entertainment\",\"entertainment\",\"entertainment\",\"entertainment\",\"entertainment\",\"entertainment\",\"entertainment\",\"entertainment\",\"entertainment\",\"entertainment\",\"entertainment\",\"entertainment\",\"entertainment\",\"entertainment\",\"entertainment\",\"entertainment\",\"entertainment\",\"entertainment\",\"entertainment\",\"entertainment\",\"entertainment\",\"entertainment\",\"entertainment\",\"entertainment\",\"entertainment\",\"entertainment\",\"entertainment\",\"entertainment\",\"entertainment\",\"entertainment\",\"entertainment\",\"entertainment\",\"entertainment\",\"entertainment\",\"entertainment\",\"entertainment\",\"entertainment\",\"entertainment\",\"entertainment\",\"entertainment\",\"entertainment\",\"entertainment\",\"entertainment\",\"entertainment\",\"entertainment\",\"entertainment\",\"entertainment\",\"entertainment\",\"entertainment\",\"entertainment\",\"entertainment\",\"entertainment\",\"entertainment\",\"entertainment\",\"entertainment\",\"entertainment\",\"entertainment\",\"entertainment\",\"entertainment\",\"entertainment\",\"entertainment\",\"entertainment\",\"entertainment\",\"entertainment\",\"entertainment\",\"entertainment\",\"entertainment\",\"entertainment\",\"entertainment\",\"entertainment\",\"entertainment\",\"entertainment\",\"entertainment\",\"entertainment\",\"entertainment\",\"entertainment\",\"entertainment\",\"entertainment\",\"entertainment\",\"entertainment\",\"entertainment\",\"entertainment\",\"entertainment\",\"entertainment\",\"entertainment\",\"entertainment\",\"entertainment\",\"entertainment\",\"entertainment\",\"entertainment\",\"entertainment\",\"entertainment\",\"entertainment\",\"entertainment\",\"entertainment\",\"entertainment\",\"entertainment\",\"entertainment\",\"entertainment\",\"entertainment\",\"entertainment\",\"entertainment\",\"entertainment\",\"entertainment\",\"entertainment\",\"entertainment\",\"entertainment\",\"entertainment\",\"entertainment\",\"entertainment\",\"entertainment\",\"entertainment\",\"entertainment\",\"entertainment\",\"entertainment\",\"entertainment\",\"entertainment\",\"entertainment\",\"entertainment\",\"entertainment\",\"entertainment\",\"entertainment\",\"entertainment\",\"entertainment\",\"entertainment\",\"entertainment\",\"entertainment\",\"entertainment\",\"entertainment\",\"entertainment\",\"entertainment\",\"entertainment\",\"entertainment\",\"entertainment\",\"entertainment\",\"entertainment\",\"entertainment\",\"entertainment\",\"entertainment\",\"entertainment\",\"entertainment\",\"entertainment\",\"entertainment\",\"entertainment\",\"entertainment\",\"entertainment\",\"entertainment\",\"entertainment\",\"entertainment\",\"entertainment\",\"entertainment\",\"entertainment\",\"entertainment\",\"entertainment\",\"entertainment\",\"entertainment\",\"entertainment\",\"entertainment\",\"entertainment\",\"entertainment\",\"entertainment\",\"entertainment\",\"entertainment\",\"entertainment\",\"entertainment\",\"entertainment\",\"entertainment\",\"entertainment\",\"entertainment\",\"entertainment\",\"entertainment\",\"entertainment\",\"entertainment\",\"entertainment\",\"entertainment\",\"entertainment\",\"entertainment\",\"entertainment\",\"entertainment\",\"entertainment\",\"entertainment\",\"entertainment\",\"entertainment\",\"entertainment\",\"entertainment\",\"entertainment\",\"entertainment\",\"entertainment\",\"entertainment\",\"entertainment\",\"entertainment\",\"entertainment\",\"entertainment\",\"entertainment\",\"entertainment\",\"entertainment\",\"entertainment\",\"entertainment\",\"entertainment\",\"entertainment\",\"entertainment\",\"entertainment\",\"entertainment\",\"entertainment\",\"entertainment\",\"entertainment\",\"entertainment\",\"entertainment\",\"entertainment\",\"entertainment\",\"entertainment\",\"entertainment\",\"entertainment\",\"entertainment\",\"entertainment\",\"entertainment\",\"entertainment\",\"entertainment\",\"entertainment\",\"entertainment\",\"entertainment\",\"entertainment\",\"entertainment\",\"entertainment\",\"entertainment\",\"entertainment\",\"entertainment\",\"entertainment\",\"entertainment\",\"entertainment\",\"entertainment\",\"entertainment\",\"entertainment\",\"entertainment\",\"entertainment\",\"entertainment\",\"entertainment\",\"entertainment\",\"entertainment\",\"entertainment\",\"entertainment\",\"entertainment\",\"entertainment\",\"entertainment\",\"entertainment\",\"entertainment\",\"entertainment\",\"entertainment\",\"entertainment\",\"entertainment\",\"entertainment\",\"entertainment\",\"entertainment\",\"entertainment\",\"entertainment\",\"entertainment\",\"entertainment\",\"entertainment\",\"entertainment\",\"entertainment\",\"entertainment\",\"entertainment\",\"entertainment\",\"entertainment\",\"entertainment\",\"entertainment\",\"entertainment\",\"entertainment\",\"entertainment\",\"entertainment\",\"entertainment\",\"entertainment\",\"entertainment\",\"entertainment\",\"entertainment\",\"entertainment\",\"entertainment\",\"entertainment\",\"entertainment\",\"entertainment\",\"entertainment\",\"entertainment\",\"entertainment\",\"entertainment\",\"entertainment\",\"entertainment\",\"entertainment\",\"entertainment\",\"entertainment\",\"entertainment\",\"entertainment\",\"entertainment\",\"entertainment\",\"entertainment\",\"entertainment\",\"entertainment\",\"entertainment\",\"entertainment\",\"entertainment\",\"entertainment\",\"entertainment\",\"entertainment\",\"entertainment\",\"entertainment\",\"entertainment\",\"entertainment\",\"entertainment\",\"entertainment\",\"entertainment\",\"entertainment\",\"entertainment\",\"entertainment\",\"entertainment\",\"entertainment\",\"entertainment\",\"entertainment\",\"entertainment\",\"entertainment\",\"entertainment\",\"entertainment\",\"entertainment\",\"entertainment\",\"entertainment\",\"entertainment\",\"entertainment\",\"entertainment\",\"entertainment\",\"entertainment\",\"entertainment\",\"entertainment\",\"entertainment\",\"entertainment\",\"entertainment\",\"entertainment\",\"entertainment\",\"entertainment\",\"entertainment\",\"entertainment\",\"entertainment\",\"entertainment\",\"entertainment\",\"entertainment\",\"entertainment\",\"entertainment\",\"entertainment\",\"entertainment\",\"entertainment\",\"entertainment\",\"entertainment\",\"entertainment\",\"entertainment\",\"entertainment\",\"entertainment\",\"entertainment\",\"entertainment\",\"politics\",\"politics\",\"politics\",\"politics\",\"politics\",\"politics\",\"politics\",\"politics\",\"politics\",\"politics\",\"politics\",\"politics\",\"politics\",\"politics\",\"politics\",\"politics\",\"politics\",\"politics\",\"politics\",\"politics\",\"politics\",\"politics\",\"politics\",\"politics\",\"politics\",\"politics\",\"politics\",\"politics\",\"politics\",\"politics\",\"politics\",\"politics\",\"politics\",\"politics\",\"politics\",\"politics\",\"politics\",\"politics\",\"politics\",\"politics\",\"politics\",\"politics\",\"politics\",\"politics\",\"politics\",\"politics\",\"politics\",\"politics\",\"politics\",\"politics\",\"politics\",\"politics\",\"politics\",\"politics\",\"politics\",\"politics\",\"politics\",\"politics\",\"politics\",\"politics\",\"politics\",\"politics\",\"politics\",\"politics\",\"politics\",\"politics\",\"politics\",\"politics\",\"politics\",\"politics\",\"politics\",\"politics\",\"politics\",\"politics\",\"politics\",\"politics\",\"politics\",\"politics\",\"politics\",\"politics\",\"politics\",\"politics\",\"politics\",\"politics\",\"politics\",\"politics\",\"politics\",\"politics\",\"politics\",\"politics\",\"politics\",\"politics\",\"politics\",\"politics\",\"politics\",\"politics\",\"politics\",\"politics\",\"politics\",\"politics\",\"politics\",\"politics\",\"politics\",\"politics\",\"politics\",\"politics\",\"politics\",\"politics\",\"politics\",\"politics\",\"politics\",\"politics\",\"politics\",\"politics\",\"politics\",\"politics\",\"politics\",\"politics\",\"politics\",\"politics\",\"politics\",\"politics\",\"politics\",\"politics\",\"politics\",\"politics\",\"politics\",\"politics\",\"politics\",\"politics\",\"politics\",\"politics\",\"politics\",\"politics\",\"politics\",\"politics\",\"politics\",\"politics\",\"politics\",\"politics\",\"politics\",\"politics\",\"politics\",\"politics\",\"politics\",\"politics\",\"politics\",\"politics\",\"politics\",\"politics\",\"politics\",\"politics\",\"politics\",\"politics\",\"politics\",\"politics\",\"politics\",\"politics\",\"politics\",\"politics\",\"politics\",\"politics\",\"politics\",\"politics\",\"politics\",\"politics\",\"politics\",\"politics\",\"politics\",\"politics\",\"politics\",\"politics\",\"politics\",\"politics\",\"politics\",\"politics\",\"politics\",\"politics\",\"politics\",\"politics\",\"politics\",\"politics\",\"politics\",\"politics\",\"politics\",\"politics\",\"politics\",\"politics\",\"politics\",\"politics\",\"politics\",\"politics\",\"politics\",\"politics\",\"politics\",\"politics\",\"politics\",\"politics\",\"politics\",\"politics\",\"politics\",\"politics\",\"politics\",\"politics\",\"politics\",\"politics\",\"politics\",\"politics\",\"politics\",\"politics\",\"politics\",\"politics\",\"politics\",\"politics\",\"politics\",\"politics\",\"politics\",\"politics\",\"politics\",\"politics\",\"politics\",\"politics\",\"politics\",\"politics\",\"politics\",\"politics\",\"politics\",\"politics\",\"politics\",\"politics\",\"politics\",\"politics\",\"politics\",\"politics\",\"politics\",\"politics\",\"politics\",\"politics\",\"politics\",\"politics\",\"politics\",\"politics\",\"politics\",\"politics\",\"politics\",\"politics\",\"politics\",\"politics\",\"politics\",\"politics\",\"politics\",\"politics\",\"politics\",\"politics\",\"politics\",\"politics\",\"politics\",\"politics\",\"politics\",\"politics\",\"politics\",\"politics\",\"politics\",\"politics\",\"politics\",\"politics\",\"politics\",\"politics\",\"politics\",\"politics\",\"politics\",\"politics\",\"politics\",\"politics\",\"politics\",\"politics\",\"politics\",\"politics\",\"politics\",\"politics\",\"politics\",\"politics\",\"politics\",\"politics\",\"politics\",\"politics\",\"politics\",\"politics\",\"politics\",\"politics\",\"politics\",\"politics\",\"politics\",\"politics\",\"politics\",\"politics\",\"politics\",\"politics\",\"politics\",\"politics\",\"politics\",\"politics\",\"politics\",\"politics\",\"politics\",\"politics\",\"politics\",\"politics\",\"politics\",\"politics\",\"politics\",\"politics\",\"politics\",\"politics\",\"politics\",\"politics\",\"politics\",\"politics\",\"politics\",\"politics\",\"politics\",\"politics\",\"politics\",\"politics\",\"politics\",\"politics\",\"politics\",\"politics\",\"politics\",\"politics\",\"politics\",\"politics\",\"politics\",\"politics\",\"politics\",\"politics\",\"politics\",\"politics\",\"politics\",\"politics\",\"politics\",\"politics\",\"politics\",\"politics\",\"politics\",\"politics\",\"politics\",\"politics\",\"politics\",\"politics\",\"politics\",\"politics\",\"politics\",\"politics\",\"politics\",\"politics\",\"politics\",\"politics\",\"politics\",\"politics\",\"politics\",\"politics\",\"politics\",\"politics\",\"politics\",\"politics\",\"politics\",\"politics\",\"politics\",\"politics\",\"politics\",\"politics\",\"politics\",\"politics\",\"politics\",\"politics\",\"politics\",\"politics\",\"politics\",\"politics\",\"politics\",\"politics\",\"politics\",\"politics\",\"politics\",\"politics\",\"politics\",\"politics\",\"politics\",\"politics\",\"politics\",\"politics\",\"politics\",\"politics\",\"politics\",\"politics\",\"politics\",\"politics\",\"politics\",\"politics\",\"politics\",\"politics\",\"politics\",\"politics\",\"politics\",\"politics\",\"politics\",\"politics\",\"politics\",\"politics\",\"politics\",\"politics\",\"politics\",\"politics\",\"politics\",\"politics\",\"politics\",\"sport\",\"sport\",\"sport\",\"sport\",\"sport\",\"sport\",\"sport\",\"sport\",\"sport\",\"sport\",\"sport\",\"sport\",\"sport\",\"sport\",\"sport\",\"sport\",\"sport\",\"sport\",\"sport\",\"sport\",\"sport\",\"sport\",\"sport\",\"sport\",\"sport\",\"sport\",\"sport\",\"sport\",\"sport\",\"sport\",\"sport\",\"sport\",\"sport\",\"sport\",\"sport\",\"sport\",\"sport\",\"sport\",\"sport\",\"sport\",\"sport\",\"sport\",\"sport\",\"sport\",\"sport\",\"sport\",\"sport\",\"sport\",\"sport\",\"sport\",\"sport\",\"sport\",\"sport\",\"sport\",\"sport\",\"sport\",\"sport\",\"sport\",\"sport\",\"sport\",\"sport\",\"sport\",\"sport\",\"sport\",\"sport\",\"sport\",\"sport\",\"sport\",\"sport\",\"sport\",\"sport\",\"sport\",\"sport\",\"sport\",\"sport\",\"sport\",\"sport\",\"sport\",\"sport\",\"sport\",\"sport\",\"sport\",\"sport\",\"sport\",\"sport\",\"sport\",\"sport\",\"sport\",\"sport\",\"sport\",\"sport\",\"sport\",\"sport\",\"sport\",\"sport\",\"sport\",\"sport\",\"sport\",\"sport\",\"sport\",\"sport\",\"sport\",\"sport\",\"sport\",\"sport\",\"sport\",\"sport\",\"sport\",\"sport\",\"sport\",\"sport\",\"sport\",\"sport\",\"sport\",\"sport\",\"sport\",\"sport\",\"sport\",\"sport\",\"sport\",\"sport\",\"sport\",\"sport\",\"sport\",\"sport\",\"sport\",\"sport\",\"sport\",\"sport\",\"sport\",\"sport\",\"sport\",\"sport\",\"sport\",\"sport\",\"sport\",\"sport\",\"sport\",\"sport\",\"sport\",\"sport\",\"sport\",\"sport\",\"sport\",\"sport\",\"sport\",\"sport\",\"sport\",\"sport\",\"sport\",\"sport\",\"sport\",\"sport\",\"sport\",\"sport\",\"sport\",\"sport\",\"sport\",\"sport\",\"sport\",\"sport\",\"sport\",\"sport\",\"sport\",\"sport\",\"sport\",\"sport\",\"sport\",\"sport\",\"sport\",\"sport\",\"sport\",\"sport\",\"sport\",\"sport\",\"sport\",\"sport\",\"sport\",\"sport\",\"sport\",\"sport\",\"sport\",\"sport\",\"sport\",\"sport\",\"sport\",\"sport\",\"sport\",\"sport\",\"sport\",\"sport\",\"sport\",\"sport\",\"sport\",\"sport\",\"sport\",\"sport\",\"sport\",\"sport\",\"sport\",\"sport\",\"sport\",\"sport\",\"sport\",\"sport\",\"sport\",\"sport\",\"sport\",\"sport\",\"sport\",\"sport\",\"sport\",\"sport\",\"sport\",\"sport\",\"sport\",\"sport\",\"sport\",\"sport\",\"sport\",\"sport\",\"sport\",\"sport\",\"sport\",\"sport\",\"sport\",\"sport\",\"sport\",\"sport\",\"sport\",\"sport\",\"sport\",\"sport\",\"sport\",\"sport\",\"sport\",\"sport\",\"sport\",\"sport\",\"sport\",\"sport\",\"sport\",\"sport\",\"sport\",\"sport\",\"sport\",\"sport\",\"sport\",\"sport\",\"sport\",\"sport\",\"sport\",\"sport\",\"sport\",\"sport\",\"sport\",\"sport\",\"sport\",\"sport\",\"sport\",\"sport\",\"sport\",\"sport\",\"sport\",\"sport\",\"sport\",\"sport\",\"sport\",\"sport\",\"sport\",\"sport\",\"sport\",\"sport\",\"sport\",\"sport\",\"sport\",\"sport\",\"sport\",\"sport\",\"sport\",\"sport\",\"sport\",\"sport\",\"sport\",\"sport\",\"sport\",\"sport\",\"sport\",\"sport\",\"sport\",\"sport\",\"sport\",\"sport\",\"sport\",\"sport\",\"sport\",\"sport\",\"sport\",\"sport\",\"sport\",\"sport\",\"sport\",\"sport\",\"sport\",\"sport\",\"sport\",\"sport\",\"sport\",\"sport\",\"sport\",\"sport\",\"sport\",\"sport\",\"sport\",\"sport\",\"sport\",\"sport\",\"sport\",\"sport\",\"sport\",\"sport\",\"sport\",\"sport\",\"sport\",\"sport\",\"sport\",\"sport\",\"sport\",\"sport\",\"sport\",\"sport\",\"sport\",\"sport\",\"sport\",\"sport\",\"sport\",\"sport\",\"sport\",\"sport\",\"sport\",\"sport\",\"sport\",\"sport\",\"sport\",\"sport\",\"sport\",\"sport\",\"sport\",\"sport\",\"sport\",\"sport\",\"sport\",\"sport\",\"sport\",\"sport\",\"sport\",\"sport\",\"sport\",\"sport\",\"sport\",\"sport\",\"sport\",\"sport\",\"sport\",\"sport\",\"sport\",\"sport\",\"sport\",\"sport\",\"sport\",\"sport\",\"sport\",\"sport\",\"sport\",\"sport\",\"sport\",\"sport\",\"sport\",\"sport\",\"sport\",\"sport\",\"sport\",\"sport\",\"sport\",\"sport\",\"sport\",\"sport\",\"sport\",\"sport\",\"sport\",\"sport\",\"sport\",\"sport\",\"sport\",\"sport\",\"sport\",\"sport\",\"sport\",\"sport\",\"sport\",\"sport\",\"sport\",\"sport\",\"sport\",\"sport\",\"sport\",\"sport\",\"sport\",\"sport\",\"sport\",\"sport\",\"sport\",\"sport\",\"sport\",\"sport\",\"sport\",\"sport\",\"sport\",\"sport\",\"sport\",\"sport\",\"sport\",\"sport\",\"sport\",\"sport\",\"sport\",\"sport\",\"sport\",\"sport\",\"sport\",\"sport\",\"sport\",\"sport\",\"sport\",\"sport\",\"sport\",\"sport\",\"sport\",\"sport\",\"sport\",\"sport\",\"sport\",\"sport\",\"sport\",\"sport\",\"sport\",\"sport\",\"sport\",\"sport\",\"sport\",\"sport\",\"sport\",\"sport\",\"sport\",\"sport\",\"sport\",\"sport\",\"sport\",\"sport\",\"sport\",\"sport\",\"sport\",\"sport\",\"sport\",\"sport\",\"sport\",\"sport\",\"sport\",\"sport\",\"sport\",\"sport\",\"sport\",\"sport\",\"sport\",\"sport\",\"sport\",\"sport\",\"sport\",\"sport\",\"sport\",\"sport\",\"sport\",\"sport\",\"sport\",\"sport\",\"sport\",\"sport\",\"sport\",\"sport\",\"sport\",\"sport\",\"sport\",\"sport\",\"sport\",\"sport\",\"sport\",\"sport\",\"sport\",\"sport\",\"sport\",\"sport\",\"sport\",\"sport\",\"sport\",\"sport\",\"sport\",\"sport\",\"sport\",\"sport\",\"sport\",\"sport\",\"tech\",\"tech\",\"tech\",\"tech\",\"tech\",\"tech\",\"tech\",\"tech\",\"tech\",\"tech\",\"tech\",\"tech\",\"tech\",\"tech\",\"tech\",\"tech\",\"tech\",\"tech\",\"tech\",\"tech\",\"tech\",\"tech\",\"tech\",\"tech\",\"tech\",\"tech\",\"tech\",\"tech\",\"tech\",\"tech\",\"tech\",\"tech\",\"tech\",\"tech\",\"tech\",\"tech\",\"tech\",\"tech\",\"tech\",\"tech\",\"tech\",\"tech\",\"tech\",\"tech\",\"tech\",\"tech\",\"tech\",\"tech\",\"tech\",\"tech\",\"tech\",\"tech\",\"tech\",\"tech\",\"tech\",\"tech\",\"tech\",\"tech\",\"tech\",\"tech\",\"tech\",\"tech\",\"tech\",\"tech\",\"tech\",\"tech\",\"tech\",\"tech\",\"tech\",\"tech\",\"tech\",\"tech\",\"tech\",\"tech\",\"tech\",\"tech\",\"tech\",\"tech\",\"tech\",\"tech\",\"tech\",\"tech\",\"tech\",\"tech\",\"tech\",\"tech\",\"tech\",\"tech\",\"tech\",\"tech\",\"tech\",\"tech\",\"tech\",\"tech\",\"tech\",\"tech\",\"tech\",\"tech\",\"tech\",\"tech\",\"tech\",\"tech\",\"tech\",\"tech\",\"tech\",\"tech\",\"tech\",\"tech\",\"tech\",\"tech\",\"tech\",\"tech\",\"tech\",\"tech\",\"tech\",\"tech\",\"tech\",\"tech\",\"tech\",\"tech\",\"tech\",\"tech\",\"tech\",\"tech\",\"tech\",\"tech\",\"tech\",\"tech\",\"tech\",\"tech\",\"tech\",\"tech\",\"tech\",\"tech\",\"tech\",\"tech\",\"tech\",\"tech\",\"tech\",\"tech\",\"tech\",\"tech\",\"tech\",\"tech\",\"tech\",\"tech\",\"tech\",\"tech\",\"tech\",\"tech\",\"tech\",\"tech\",\"tech\",\"tech\",\"tech\",\"tech\",\"tech\",\"tech\",\"tech\",\"tech\",\"tech\",\"tech\",\"tech\",\"tech\",\"tech\",\"tech\",\"tech\",\"tech\",\"tech\",\"tech\",\"tech\",\"tech\",\"tech\",\"tech\",\"tech\",\"tech\",\"tech\",\"tech\",\"tech\",\"tech\",\"tech\",\"tech\",\"tech\",\"tech\",\"tech\",\"tech\",\"tech\",\"tech\",\"tech\",\"tech\",\"tech\",\"tech\",\"tech\",\"tech\",\"tech\",\"tech\",\"tech\",\"tech\",\"tech\",\"tech\",\"tech\",\"tech\",\"tech\",\"tech\",\"tech\",\"tech\",\"tech\",\"tech\",\"tech\",\"tech\",\"tech\",\"tech\",\"tech\",\"tech\",\"tech\",\"tech\",\"tech\",\"tech\",\"tech\",\"tech\",\"tech\",\"tech\",\"tech\",\"tech\",\"tech\",\"tech\",\"tech\",\"tech\",\"tech\",\"tech\",\"tech\",\"tech\",\"tech\",\"tech\",\"tech\",\"tech\",\"tech\",\"tech\",\"tech\",\"tech\",\"tech\",\"tech\",\"tech\",\"tech\",\"tech\",\"tech\",\"tech\",\"tech\",\"tech\",\"tech\",\"tech\",\"tech\",\"tech\",\"tech\",\"tech\",\"tech\",\"tech\",\"tech\",\"tech\",\"tech\",\"tech\",\"tech\",\"tech\",\"tech\",\"tech\",\"tech\",\"tech\",\"tech\",\"tech\",\"tech\",\"tech\",\"tech\",\"tech\",\"tech\",\"tech\",\"tech\",\"tech\",\"tech\",\"tech\",\"tech\",\"tech\",\"tech\",\"tech\",\"tech\",\"tech\",\"tech\",\"tech\",\"tech\",\"tech\",\"tech\",\"tech\",\"tech\",\"tech\",\"tech\",\"tech\",\"tech\",\"tech\",\"tech\",\"tech\",\"tech\",\"tech\",\"tech\",\"tech\",\"tech\",\"tech\",\"tech\",\"tech\",\"tech\",\"tech\",\"tech\",\"tech\",\"tech\",\"tech\",\"tech\",\"tech\",\"tech\",\"tech\",\"tech\",\"tech\",\"tech\",\"tech\",\"tech\",\"tech\",\"tech\",\"tech\",\"tech\",\"tech\",\"tech\",\"tech\",\"tech\",\"tech\",\"tech\",\"tech\",\"tech\",\"tech\",\"tech\",\"tech\",\"tech\",\"tech\",\"tech\",\"tech\",\"tech\",\"tech\",\"tech\",\"tech\",\"tech\",\"tech\",\"tech\",\"tech\",\"tech\",\"tech\",\"tech\",\"tech\",\"tech\",\"tech\",\"tech\",\"tech\",\"tech\",\"tech\",\"tech\",\"tech\",\"tech\",\"tech\",\"tech\",\"tech\",\"tech\",\"tech\",\"tech\",\"tech\",\"tech\",\"tech\",\"tech\",\"tech\",\"tech\",\"tech\",\"tech\",\"tech\",\"tech\",\"tech\",\"tech\",\"tech\",\"tech\",\"tech\",\"tech\",\"tech\",\"tech\",\"tech\",\"tech\",\"tech\",\"tech\",\"tech\",\"tech\",\"tech\",\"tech\",\"tech\",\"tech\",\"tech\",\"tech\",\"tech\",\"tech\",\"tech\"],\"legendgroup\":\"\",\"name\":\"\",\"showlegend\":true,\"values\":[415,379,258,400,260,180,277,315,224,222,179,295,295,461,600,241,209,170,265,653,343,301,203,321,450,291,268,206,397,410,299,272,220,302,193,343,414,148,205,223,322,222,188,399,305,288,268,260,611,303,290,478,232,248,359,256,436,193,290,139,260,313,283,285,349,315,288,384,531,179,201,273,248,249,207,278,437,255,244,186,259,202,528,204,223,188,289,189,370,371,310,356,310,204,258,136,439,212,423,338,346,222,472,363,222,300,290,166,144,263,521,282,365,347,197,228,414,217,449,297,514,380,186,166,236,366,475,297,156,417,441,211,277,358,399,531,212,307,301,436,255,334,258,153,248,868,204,253,589,359,280,326,395,355,262,279,267,153,630,380,361,286,436,408,358,259,208,227,166,219,213,408,360,273,205,286,341,262,212,351,465,251,817,340,299,207,300,396,419,304,480,393,293,173,430,298,266,275,331,637,276,343,280,470,266,296,339,286,475,393,231,269,421,292,515,351,494,204,259,316,315,449,256,523,219,289,186,213,446,240,305,253,160,174,207,387,175,309,233,292,767,605,877,496,803,383,262,318,599,284,294,602,277,288,167,197,424,426,219,495,727,541,316,390,289,702,187,788,408,484,467,378,498,262,280,167,853,186,419,162,201,317,151,726,245,371,885,232,319,499,424,369,380,495,313,519,279,244,481,181,179,213,322,267,242,191,438,327,217,220,201,275,266,722,268,353,369,418,307,255,141,150,455,387,264,383,300,226,334,862,273,539,289,251,286,387,329,236,286,332,247,340,143,418,426,651,240,480,350,208,204,141,885,553,173,426,267,436,352,214,240,252,250,206,187,403,323,272,171,208,197,158,163,256,281,305,138,223,208,220,228,291,301,324,180,327,340,278,272,226,358,354,331,168,253,147,318,272,553,311,292,303,369,263,487,476,248,141,641,174,253,321,450,347,395,369,262,139,230,241,361,224,248,347,232,405,296,547,280,400,157,181,168,582,420,288,435,499,219,411,318,313,196,270,362,309,218,378,486,402,278,331,312,432,382,195,372,348,355,315,301,292,159,219,202,295,202,275,325,136,477,471,149,195,282,210,244,279,361,165,346,486,180,205,244,293,701,303,274,303,345,160,371,515,498,183,288,473,230,189,545,207,205,442,241,260,462,218,422,144,186,249,187,208,174,223,354,296,329,310,213,369,475,234,254,643,247,222,146,272,450,592,284,348,293,361,292,248,294,221,253,504,325,313,256,231,254,315,380,257,207,187,372,295,228,211,228,328,267,264,328,201,258,291,288,317,236,222,276,170,748,246,312,552,151,302,248,219,328,219,281,329,201,246,343,217,331,327,208,246,312,380,149,214,389,318,168,246,153,296,188,138,213,407,528,268,304,196,226,306,299,210,384,206,247,195,184,353,244,252,234,176,233,247,264,229,278,254,231,615,301,736,259,231,236,198,384,205,246,355,1275,413,397,220,211,229,292,300,186,223,664,554,387,190,397,265,243,427,321,185,285,284,593,194,205,245,141,300,361,200,391,227,213,191,171,286,376,315,250,173,238,224,237,187,239,244,160,228,190,212,628,392,270,395,229,159,212,216,183,344,390,272,466,228,220,259,452,173,229,173,551,406,498,240,228,283,307,227,198,243,159,245,582,465,246,190,196,247,224,265,408,168,251,224,281,282,214,329,554,188,406,196,178,309,247,562,223,256,439,245,207,196,190,659,443,196,230,462,140,227,354,219,3477,389,520,2342,307,344,561,181,246,832,589,573,254,178,263,378,295,198,527,187,284,166,667,353,232,240,325,801,237,442,228,543,237,224,292,357,372,179,406,290,256,366,217,275,207,265,239,496,276,173,421,236,717,586,320,219,161,174,359,285,251,1041,290,520,169,156,332,192,371,237,505,215,449,634,300,318,236,222,200,172,279,268,267,393,231,211,221,236,210,222,171,162,222,309,378,222,241,201,313,489,2387,595,504,372,567,464,180,259,268,294,445,194,208,317,596,993,480,246,233,627,466,218,513,315,262,388,192,191,211,228,220,267,256,263,445,375,519,249,499,342,509,531,525,190,277,424,564,468,148,231,164,253,626,549,479,425,316,252,234,254,658,243,414,356,463,340,451,437,227,400,216,312,526,572,633,523,252,213,279,434,506,525,477,683,375,423,573,244,507,484,197,395,509,450,313,564,254,310,446,528,564,542,369,522,278,526,378,196,431,398,241,636,473,489,337,514,279,252,497,399,611,560,588,259,176,406,253,506,440,373,497,350,431,611,571,468,364,467,528,495,354,175,295,477,924,371,326,296,579,498,272,416,456,389,534,574,157,604,376,454,609,616,217,429,351,312,282,455,596,487,593,398,309,221,534,536,443,218,157,359,460,427,411,243,461,483,416,505,451,413,515,258,510,515,302,309,250,302,502,378,393,600,420,456,251,387,402,673,395,503,471,208,468,522,402,574,334,565,421,451,385,191,533,278,238,561,513,271,331,422,303,479,444,437,332,464,416,413,420,244,241,288,331,496,524,155,568,481,680,361,267,620,489,465,480,311,353,592,405,275,497,295,475,470,395,329,317,584,169,157,148,344,405,366,565,428,191,451,495,568,258,285,136,1175,758,557,620,744,616,578,567,624,693,521,557,489,831,604,330,316,855,537,174,503,564,543,402,381,440,458,287,319,486,325,493,574,490,666,279,376,272,322,422,4428,175,669,2389,299,334,306,422,509,337,534,528,443,607,150,509,376,284,197,227,157,369,365,405,273,722,412,468,293,473,539,267,429,243,603,315,416,703,635,155,249,494,419,435,423,397,809,575,434,550,573,353,354,157,590,349,362,451,477,646,428,509,489,873,285,492,479,315,276,499,502,532,583,368,411,382,496,477,495,358,534,371,491,681,394,712,246,269,569,474,3290,168,541,514,572,309,464,447,511,591,564,178,319,763,432,504,690,84,149,537,663,258,271,480,255,547,983,451,606,268,252,854,245,192,543,253,286,475,206,139,371,190,156,141,120,230,382,245,186,218,305,477,139,254,250,228,134,218,255,215,404,163,282,154,164,313,137,723,141,194,249,939,297,216,274,385,165,734,223,224,492,273,294,189,280,416,452,256,271,136,154,296,250,135,767,862,677,372,662,229,271,199,270,792,176,643,805,684,190,562,174,126,506,220,118,165,233,216,333,386,121,136,125,170,178,452,292,342,291,145,767,218,523,259,421,137,233,369,615,343,161,587,632,560,447,504,432,216,433,1351,236,306,643,151,193,1041,493,180,1351,307,217,296,291,411,150,239,202,134,242,240,340,296,156,143,339,247,512,380,153,402,140,221,300,448,330,155,253,305,227,446,202,297,314,282,309,374,255,520,170,142,504,209,172,313,132,243,241,362,126,346,144,154,129,313,252,235,645,646,510,510,300,210,225,282,190,308,295,262,108,402,226,148,405,282,317,222,440,269,279,192,119,219,334,259,398,417,331,584,340,415,183,122,261,574,333,824,280,130,210,392,407,139,120,240,532,400,145,181,429,436,331,201,773,307,176,214,133,520,191,230,435,247,302,546,301,369,115,323,607,183,320,440,183,128,244,244,186,488,147,126,172,347,214,146,333,589,423,237,156,260,278,383,249,288,199,418,126,191,261,157,496,391,382,236,316,222,382,439,344,225,313,386,220,158,182,176,418,293,218,468,448,229,151,242,352,623,431,405,602,720,610,468,283,320,147,270,118,395,217,421,518,129,111,291,440,466,466,472,507,337,402,264,215,396,342,456,292,438,214,328,243,337,301,205,294,294,381,184,207,310,253,503,289,151,238,450,366,234,298,200,287,772,352,371,406,721,208,317,1656,238,426,256,738,380,633,348,374,394,230,421,530,403,500,290,500,147,212,168,539,184,180,185,657,347,429,240,312,307,619,233,596,627,726,382,468,215,369,312,249,310,559,673,393,720,214,175,218,296,336,147,433,250,341,305,200,185,199,260,270,243,341,180,288,260,257,243,227,160,156,162,146,145,285,491,304,408,475,301,194,153,159,140,272,151,121,223,177,178,301,196,157,418,316,414,125,396,441,441,125,345,415,381,230,836,348,223,223,486,291,167,352,167,132,410,208,371,416,416,1378,243,602,179,677,263,246,122,199,414,126,325,289,129,133,125,232,129,200,317,209,666,378,208,459,799,623,274,279,1229,504,564,259,524,277,287,684,516,371,474,461,333,298,415,282,190,442,545,461,375,284,886,817,342,544,397,208,258,329,210,555,482,256,337,316,244,329,319,368,469,426,389,425,421,253,240,582,223,339,625,274,416,428,459,653,323,506,620,398,568,302,694,881,537,494,268,331,624,323,429,288,494,479,441,501,394,455,640,504,360,685,348,412,772,891,908,290,463,439,695,362,350,751,565,458,410,681,302,608,385,1022,292,331,556,461,384,326,283,330,381,459,362,680,589,358,645,321,359,250,414,434,378,272,554,582,849,313,907,619,757,495,364,801,542,809,480,398,405,351,228,331,628,370,562,954,732,667,514,398,405,321,794,228,691,906,336,336,442,572,308,540,321,359,719,892,414,272,388,434,378,554,262,292,351,802,562,344,634,1343,528,324,595,362,630,347,602,414,356,919,835,346,427,499,470,362,377,641,297,611,258,519,524,625,615,372,442,723,385,517,316,513,344,711,499,316,625,524,352,651,803,324,433,224,308,639,665,396,226,175,212,638,226,237,484,496,702,393,287,235,316,335,446,279,378,263,320,465,286,259,322,435,509,210,430,804,362,344,580,548,392,721,266,285,417,387,492,573,597,446,389,560,759,552,728,157,724,803,323,794,439,326,691,388,667,733,651,630,435,430,721,844,1039,389,268,724,688,752,700,441,842,360,935,685,891,240,545,608,190,428,818,472,416,625,389,316,658,306,319,333,477,277,259,555,258,210,811,802,736,653,256,469,245,368,333,263,269,388,726,452,793,486,394,267,489,857,394,496,511,997,405,806,476,471,441,998,390,806,513,451,364,625,618,323,429,250,538,482,290,579,1523,298,506,620,707,576,310,786,330,565,640,332,803,331,494,829,858,996,414,352,1045,374,2964],\"type\":\"pie\"}],                        {\"template\":{\"data\":{\"histogram2dcontour\":[{\"type\":\"histogram2dcontour\",\"colorbar\":{\"outlinewidth\":0,\"ticks\":\"\"},\"colorscale\":[[0.0,\"#0d0887\"],[0.1111111111111111,\"#46039f\"],[0.2222222222222222,\"#7201a8\"],[0.3333333333333333,\"#9c179e\"],[0.4444444444444444,\"#bd3786\"],[0.5555555555555556,\"#d8576b\"],[0.6666666666666666,\"#ed7953\"],[0.7777777777777778,\"#fb9f3a\"],[0.8888888888888888,\"#fdca26\"],[1.0,\"#f0f921\"]]}],\"choropleth\":[{\"type\":\"choropleth\",\"colorbar\":{\"outlinewidth\":0,\"ticks\":\"\"}}],\"histogram2d\":[{\"type\":\"histogram2d\",\"colorbar\":{\"outlinewidth\":0,\"ticks\":\"\"},\"colorscale\":[[0.0,\"#0d0887\"],[0.1111111111111111,\"#46039f\"],[0.2222222222222222,\"#7201a8\"],[0.3333333333333333,\"#9c179e\"],[0.4444444444444444,\"#bd3786\"],[0.5555555555555556,\"#d8576b\"],[0.6666666666666666,\"#ed7953\"],[0.7777777777777778,\"#fb9f3a\"],[0.8888888888888888,\"#fdca26\"],[1.0,\"#f0f921\"]]}],\"heatmap\":[{\"type\":\"heatmap\",\"colorbar\":{\"outlinewidth\":0,\"ticks\":\"\"},\"colorscale\":[[0.0,\"#0d0887\"],[0.1111111111111111,\"#46039f\"],[0.2222222222222222,\"#7201a8\"],[0.3333333333333333,\"#9c179e\"],[0.4444444444444444,\"#bd3786\"],[0.5555555555555556,\"#d8576b\"],[0.6666666666666666,\"#ed7953\"],[0.7777777777777778,\"#fb9f3a\"],[0.8888888888888888,\"#fdca26\"],[1.0,\"#f0f921\"]]}],\"heatmapgl\":[{\"type\":\"heatmapgl\",\"colorbar\":{\"outlinewidth\":0,\"ticks\":\"\"},\"colorscale\":[[0.0,\"#0d0887\"],[0.1111111111111111,\"#46039f\"],[0.2222222222222222,\"#7201a8\"],[0.3333333333333333,\"#9c179e\"],[0.4444444444444444,\"#bd3786\"],[0.5555555555555556,\"#d8576b\"],[0.6666666666666666,\"#ed7953\"],[0.7777777777777778,\"#fb9f3a\"],[0.8888888888888888,\"#fdca26\"],[1.0,\"#f0f921\"]]}],\"contourcarpet\":[{\"type\":\"contourcarpet\",\"colorbar\":{\"outlinewidth\":0,\"ticks\":\"\"}}],\"contour\":[{\"type\":\"contour\",\"colorbar\":{\"outlinewidth\":0,\"ticks\":\"\"},\"colorscale\":[[0.0,\"#0d0887\"],[0.1111111111111111,\"#46039f\"],[0.2222222222222222,\"#7201a8\"],[0.3333333333333333,\"#9c179e\"],[0.4444444444444444,\"#bd3786\"],[0.5555555555555556,\"#d8576b\"],[0.6666666666666666,\"#ed7953\"],[0.7777777777777778,\"#fb9f3a\"],[0.8888888888888888,\"#fdca26\"],[1.0,\"#f0f921\"]]}],\"surface\":[{\"type\":\"surface\",\"colorbar\":{\"outlinewidth\":0,\"ticks\":\"\"},\"colorscale\":[[0.0,\"#0d0887\"],[0.1111111111111111,\"#46039f\"],[0.2222222222222222,\"#7201a8\"],[0.3333333333333333,\"#9c179e\"],[0.4444444444444444,\"#bd3786\"],[0.5555555555555556,\"#d8576b\"],[0.6666666666666666,\"#ed7953\"],[0.7777777777777778,\"#fb9f3a\"],[0.8888888888888888,\"#fdca26\"],[1.0,\"#f0f921\"]]}],\"mesh3d\":[{\"type\":\"mesh3d\",\"colorbar\":{\"outlinewidth\":0,\"ticks\":\"\"}}],\"scatter\":[{\"fillpattern\":{\"fillmode\":\"overlay\",\"size\":10,\"solidity\":0.2},\"type\":\"scatter\"}],\"parcoords\":[{\"type\":\"parcoords\",\"line\":{\"colorbar\":{\"outlinewidth\":0,\"ticks\":\"\"}}}],\"scatterpolargl\":[{\"type\":\"scatterpolargl\",\"marker\":{\"colorbar\":{\"outlinewidth\":0,\"ticks\":\"\"}}}],\"bar\":[{\"error_x\":{\"color\":\"#2a3f5f\"},\"error_y\":{\"color\":\"#2a3f5f\"},\"marker\":{\"line\":{\"color\":\"#E5ECF6\",\"width\":0.5},\"pattern\":{\"fillmode\":\"overlay\",\"size\":10,\"solidity\":0.2}},\"type\":\"bar\"}],\"scattergeo\":[{\"type\":\"scattergeo\",\"marker\":{\"colorbar\":{\"outlinewidth\":0,\"ticks\":\"\"}}}],\"scatterpolar\":[{\"type\":\"scatterpolar\",\"marker\":{\"colorbar\":{\"outlinewidth\":0,\"ticks\":\"\"}}}],\"histogram\":[{\"marker\":{\"pattern\":{\"fillmode\":\"overlay\",\"size\":10,\"solidity\":0.2}},\"type\":\"histogram\"}],\"scattergl\":[{\"type\":\"scattergl\",\"marker\":{\"colorbar\":{\"outlinewidth\":0,\"ticks\":\"\"}}}],\"scatter3d\":[{\"type\":\"scatter3d\",\"line\":{\"colorbar\":{\"outlinewidth\":0,\"ticks\":\"\"}},\"marker\":{\"colorbar\":{\"outlinewidth\":0,\"ticks\":\"\"}}}],\"scattermapbox\":[{\"type\":\"scattermapbox\",\"marker\":{\"colorbar\":{\"outlinewidth\":0,\"ticks\":\"\"}}}],\"scatterternary\":[{\"type\":\"scatterternary\",\"marker\":{\"colorbar\":{\"outlinewidth\":0,\"ticks\":\"\"}}}],\"scattercarpet\":[{\"type\":\"scattercarpet\",\"marker\":{\"colorbar\":{\"outlinewidth\":0,\"ticks\":\"\"}}}],\"carpet\":[{\"aaxis\":{\"endlinecolor\":\"#2a3f5f\",\"gridcolor\":\"white\",\"linecolor\":\"white\",\"minorgridcolor\":\"white\",\"startlinecolor\":\"#2a3f5f\"},\"baxis\":{\"endlinecolor\":\"#2a3f5f\",\"gridcolor\":\"white\",\"linecolor\":\"white\",\"minorgridcolor\":\"white\",\"startlinecolor\":\"#2a3f5f\"},\"type\":\"carpet\"}],\"table\":[{\"cells\":{\"fill\":{\"color\":\"#EBF0F8\"},\"line\":{\"color\":\"white\"}},\"header\":{\"fill\":{\"color\":\"#C8D4E3\"},\"line\":{\"color\":\"white\"}},\"type\":\"table\"}],\"barpolar\":[{\"marker\":{\"line\":{\"color\":\"#E5ECF6\",\"width\":0.5},\"pattern\":{\"fillmode\":\"overlay\",\"size\":10,\"solidity\":0.2}},\"type\":\"barpolar\"}],\"pie\":[{\"automargin\":true,\"type\":\"pie\"}]},\"layout\":{\"autotypenumbers\":\"strict\",\"colorway\":[\"#636efa\",\"#EF553B\",\"#00cc96\",\"#ab63fa\",\"#FFA15A\",\"#19d3f3\",\"#FF6692\",\"#B6E880\",\"#FF97FF\",\"#FECB52\"],\"font\":{\"color\":\"#2a3f5f\"},\"hovermode\":\"closest\",\"hoverlabel\":{\"align\":\"left\"},\"paper_bgcolor\":\"white\",\"plot_bgcolor\":\"#E5ECF6\",\"polar\":{\"bgcolor\":\"#E5ECF6\",\"angularaxis\":{\"gridcolor\":\"white\",\"linecolor\":\"white\",\"ticks\":\"\"},\"radialaxis\":{\"gridcolor\":\"white\",\"linecolor\":\"white\",\"ticks\":\"\"}},\"ternary\":{\"bgcolor\":\"#E5ECF6\",\"aaxis\":{\"gridcolor\":\"white\",\"linecolor\":\"white\",\"ticks\":\"\"},\"baxis\":{\"gridcolor\":\"white\",\"linecolor\":\"white\",\"ticks\":\"\"},\"caxis\":{\"gridcolor\":\"white\",\"linecolor\":\"white\",\"ticks\":\"\"}},\"coloraxis\":{\"colorbar\":{\"outlinewidth\":0,\"ticks\":\"\"}},\"colorscale\":{\"sequential\":[[0.0,\"#0d0887\"],[0.1111111111111111,\"#46039f\"],[0.2222222222222222,\"#7201a8\"],[0.3333333333333333,\"#9c179e\"],[0.4444444444444444,\"#bd3786\"],[0.5555555555555556,\"#d8576b\"],[0.6666666666666666,\"#ed7953\"],[0.7777777777777778,\"#fb9f3a\"],[0.8888888888888888,\"#fdca26\"],[1.0,\"#f0f921\"]],\"sequentialminus\":[[0.0,\"#0d0887\"],[0.1111111111111111,\"#46039f\"],[0.2222222222222222,\"#7201a8\"],[0.3333333333333333,\"#9c179e\"],[0.4444444444444444,\"#bd3786\"],[0.5555555555555556,\"#d8576b\"],[0.6666666666666666,\"#ed7953\"],[0.7777777777777778,\"#fb9f3a\"],[0.8888888888888888,\"#fdca26\"],[1.0,\"#f0f921\"]],\"diverging\":[[0,\"#8e0152\"],[0.1,\"#c51b7d\"],[0.2,\"#de77ae\"],[0.3,\"#f1b6da\"],[0.4,\"#fde0ef\"],[0.5,\"#f7f7f7\"],[0.6,\"#e6f5d0\"],[0.7,\"#b8e186\"],[0.8,\"#7fbc41\"],[0.9,\"#4d9221\"],[1,\"#276419\"]]},\"xaxis\":{\"gridcolor\":\"white\",\"linecolor\":\"white\",\"ticks\":\"\",\"title\":{\"standoff\":15},\"zerolinecolor\":\"white\",\"automargin\":true,\"zerolinewidth\":2},\"yaxis\":{\"gridcolor\":\"white\",\"linecolor\":\"white\",\"ticks\":\"\",\"title\":{\"standoff\":15},\"zerolinecolor\":\"white\",\"automargin\":true,\"zerolinewidth\":2},\"scene\":{\"xaxis\":{\"backgroundcolor\":\"#E5ECF6\",\"gridcolor\":\"white\",\"linecolor\":\"white\",\"showbackground\":true,\"ticks\":\"\",\"zerolinecolor\":\"white\",\"gridwidth\":2},\"yaxis\":{\"backgroundcolor\":\"#E5ECF6\",\"gridcolor\":\"white\",\"linecolor\":\"white\",\"showbackground\":true,\"ticks\":\"\",\"zerolinecolor\":\"white\",\"gridwidth\":2},\"zaxis\":{\"backgroundcolor\":\"#E5ECF6\",\"gridcolor\":\"white\",\"linecolor\":\"white\",\"showbackground\":true,\"ticks\":\"\",\"zerolinecolor\":\"white\",\"gridwidth\":2}},\"shapedefaults\":{\"line\":{\"color\":\"#2a3f5f\"}},\"annotationdefaults\":{\"arrowcolor\":\"#2a3f5f\",\"arrowhead\":0,\"arrowwidth\":1},\"geo\":{\"bgcolor\":\"white\",\"landcolor\":\"#E5ECF6\",\"subunitcolor\":\"white\",\"showland\":true,\"showlakes\":true,\"lakecolor\":\"white\"},\"title\":{\"x\":0.05},\"mapbox\":{\"style\":\"light\"}}},\"legend\":{\"tracegroupgap\":0},\"margin\":{\"t\":60}},                        {\"responsive\": true}                    ).then(function(){\n",
              "                            \n",
              "var gd = document.getElementById('6a8e608a-b9e1-4988-87c7-8090771cc852');\n",
              "var x = new MutationObserver(function (mutations, observer) {{\n",
              "        var display = window.getComputedStyle(gd).display;\n",
              "        if (!display || display === 'none') {{\n",
              "            console.log([gd, 'removed!']);\n",
              "            Plotly.purge(gd);\n",
              "            observer.disconnect();\n",
              "        }}\n",
              "}});\n",
              "\n",
              "// Listen for the removal of the full notebook cells\n",
              "var notebookContainer = gd.closest('#notebook-container');\n",
              "if (notebookContainer) {{\n",
              "    x.observe(notebookContainer, {childList: true});\n",
              "}}\n",
              "\n",
              "// Listen for the clearing of the current output cell\n",
              "var outputEl = gd.closest('.output');\n",
              "if (outputEl) {{\n",
              "    x.observe(outputEl, {childList: true});\n",
              "}}\n",
              "\n",
              "                        })                };                            </script>        </div>\n",
              "</body>\n",
              "</html>"
            ]
          },
          "metadata": {}
        }
      ]
    },
    {
      "cell_type": "markdown",
      "source": [
        "Encode the categories as values"
      ],
      "metadata": {
        "id": "h5myv_7hRCoN"
      }
    },
    {
      "cell_type": "code",
      "source": [
        "le =LabelEncoder()\n",
        "le.fit(y_train)\n",
        "print(le.classes_)\n",
        "train_y=le.transform(y_train)\n",
        "val_y=le.transform(y_val)\n",
        "test_y=le.transform(y_test)"
      ],
      "metadata": {
        "colab": {
          "base_uri": "https://localhost:8080/"
        },
        "id": "lToo5IwKIjw9",
        "outputId": "4f375b22-d9de-4496-8ee0-89595e4fd967"
      },
      "execution_count": null,
      "outputs": [
        {
          "output_type": "stream",
          "name": "stdout",
          "text": [
            "['business' 'entertainment' 'politics' 'sport' 'tech']\n"
          ]
        }
      ]
    },
    {
      "cell_type": "markdown",
      "source": [
        "Turn the text into vectors"
      ],
      "metadata": {
        "id": "AQ1gogJIRFw7"
      }
    },
    {
      "cell_type": "code",
      "source": [
        "vectorizer = CountVectorizer()\n",
        "vectorizer.fit_transform(X_train)\n",
        "train_x=vectorizer.transform(X_train)\n",
        "val_x=vectorizer.transform(X_val)\n",
        "test_x=vectorizer.transform(X_test)"
      ],
      "metadata": {
        "id": "e0aBwqk4Il6k"
      },
      "execution_count": null,
      "outputs": []
    },
    {
      "cell_type": "markdown",
      "source": [
        "Turn all datasets into tensors for the model"
      ],
      "metadata": {
        "id": "e6e4y7xyRQEx"
      }
    },
    {
      "cell_type": "code",
      "source": [
        "# change arrays into tensors\n",
        "train_x_tensor=torch.tensor(train_x.toarray()).float()\n",
        "train_y_tensor=torch.tensor(train_y)\n",
        "\n",
        "val_x_tensor=torch.tensor(val_x.toarray()).float()\n",
        "val_y_tensor=torch.tensor(val_y)\n",
        "\n",
        "test_x_tensor=torch.tensor(test_x.toarray()).float()\n",
        "test_y_tensor=torch.tensor(test_y)"
      ],
      "metadata": {
        "id": "0sHqH5INPuQF"
      },
      "execution_count": null,
      "outputs": []
    },
    {
      "cell_type": "code",
      "source": [
        "train_x_tensor=torch.tensor(train_x.toarray()).float()\n",
        "train_x_tensor.size()"
      ],
      "metadata": {
        "colab": {
          "base_uri": "https://localhost:8080/"
        },
        "id": "rfSJDPBhMHA1",
        "outputId": "33a51f76-f1a5-4893-90e8-0d31ac9ede34"
      },
      "execution_count": null,
      "outputs": [
        {
          "output_type": "execute_result",
          "data": {
            "text/plain": [
              "torch.Size([1335, 23699])"
            ]
          },
          "metadata": {},
          "execution_count": 32
        }
      ]
    },
    {
      "cell_type": "markdown",
      "source": [
        "Get a first impression with a simple MLP"
      ],
      "metadata": {
        "id": "rJuOqFitRV_X"
      }
    },
    {
      "cell_type": "code",
      "source": [
        "from sklearn.neural_network import MLPClassifier\n",
        "from sklearn.metrics import accuracy_score\n",
        "from sklearn.metrics import precision_recall_fscore_support"
      ],
      "metadata": {
        "id": "_tiTDmyvMWIZ"
      },
      "execution_count": null,
      "outputs": []
    },
    {
      "cell_type": "code",
      "source": [
        "clf = MLPClassifier(random_state=1, hidden_layer_sizes=(300,100), max_iter=300).fit(train_x, train_y)\n",
        "\n",
        "y_pred_val=clf.predict(val_x)\n",
        "accuracy_score(val_y, y_pred_val),precision_recall_fscore_support(val_y, y_pred_val)"
      ],
      "metadata": {
        "colab": {
          "base_uri": "https://localhost:8080/"
        },
        "id": "-JAwotaSMg8-",
        "outputId": "3b1f02b9-8162-499e-c281-ae46310303e1"
      },
      "execution_count": null,
      "outputs": [
        {
          "output_type": "execute_result",
          "data": {
            "text/plain": [
              "(0.9685393258426966,\n",
              " (array([0.95049505, 0.95714286, 0.95061728, 0.99047619, 0.98863636]),\n",
              "  array([0.96      , 0.98529412, 0.9625    , 1.        , 0.93548387]),\n",
              "  array([0.95522388, 0.97101449, 0.95652174, 0.99521531, 0.96132597]),\n",
              "  array([100,  68,  80, 104,  93])))"
            ]
          },
          "metadata": {},
          "execution_count": 34
        }
      ]
    },
    {
      "cell_type": "markdown",
      "source": [
        "Build the model"
      ],
      "metadata": {
        "id": "MHZt3JR2Rde8"
      }
    },
    {
      "cell_type": "code",
      "source": [
        "class ClassificationNet(nn.Module):\n",
        "\n",
        "    def __init__(self):\n",
        "        super(ClassificationNet, self).__init__()\n",
        "        self.layers = nn.Sequential(\n",
        "        nn.Linear(23699, 512), #feature number, first layer size\n",
        "        nn.Hardtanh(),\n",
        "        nn.Linear(512,5) #we have 5 categories!\n",
        "        )\n",
        "\n",
        "    def forward(self, x): #forward pass, input shape(data points, feature number)\n",
        "        sm = nn.Softmax(dim=1) #activation function\n",
        "        x = sm(self.layers(x))\n",
        "        return x\n",
        "\n",
        "net = ClassificationNet()"
      ],
      "metadata": {
        "id": "bfOLQyV3NGUO"
      },
      "execution_count": null,
      "outputs": []
    },
    {
      "cell_type": "code",
      "source": [
        "# learning rate\n",
        "lrt=0.01\n",
        "\n",
        "# optimizer\n",
        "optimizer = optim.Adam(net.parameters(), lr=lrt)\n",
        "\n",
        "# loss/criterion\n",
        "criterion = nn.CrossEntropyLoss()\n",
        "\n",
        "# epochs / number of training iterations\n",
        "epochs = 50"
      ],
      "metadata": {
        "id": "Qz1lNU1hN8YO"
      },
      "execution_count": null,
      "outputs": []
    },
    {
      "cell_type": "code",
      "source": [
        "def evaluation_metrics(predict_y,ground_truth_y):\n",
        "\n",
        "    accuracy=accuracy_score(ground_truth_y,predict_y)\n",
        "    f1score=f1_score(ground_truth_y,predict_y,average='macro')\n",
        "\n",
        "    return (accuracy,f1score)"
      ],
      "metadata": {
        "id": "Pu8QtUbMPHV9"
      },
      "execution_count": null,
      "outputs": []
    },
    {
      "cell_type": "code",
      "source": [
        "import numpy as np\n",
        "\n",
        "train_err=[]\n",
        "val_err =[]\n",
        "\n",
        "for i in range(epochs):\n",
        "    # step 1. zero the gradients\n",
        "    optimizer.zero_grad()\n",
        "\n",
        "    # step 2. compute the output\n",
        "    output = net(train_x_tensor)\n",
        "\n",
        "    # step 3. compute the loss\n",
        "    loss = criterion(output, train_y_tensor)\n",
        "\n",
        "    # step 4. use the loss to produce the gradients\n",
        "    loss.backward()\n",
        "\n",
        "    # step 5. use the optimizer to update the weights\n",
        "    optimizer.step()\n",
        "\n",
        "    with torch.no_grad():\n",
        "\n",
        "        # compute output\n",
        "        output_val= net(val_x_tensor)\n",
        "\n",
        "        # compute loss\n",
        "        loss_val = criterion(output_val, val_y_tensor)\n",
        "\n",
        "        # compute prediction\n",
        "        predict_y= [np.argmax(i.detach().numpy()) for i in output_val]\n",
        "\n",
        "        # \"evaluation_metrics\" function for accuracy and f1 score\n",
        "        accuracy,f1score=evaluation_metrics(predict_y,val_y_tensor)\n",
        "\n",
        "        train_err.append(loss.item())\n",
        "        val_err.append(loss_val.item())\n",
        "\n",
        "        print('Epoch %d/%d - Loss_train: %.3f   loss_val: %.3f   accuracy_val: %.3f f1score_val: %.3f   '% \\\n",
        "              (i + 1, epochs,loss.item(),loss_val.item(),accuracy,f1score))"
      ],
      "metadata": {
        "colab": {
          "base_uri": "https://localhost:8080/"
        },
        "id": "VGMgbRIdPOOT",
        "outputId": "40a0d79a-6bc1-4a4d-ec85-b22df85811b6"
      },
      "execution_count": null,
      "outputs": [
        {
          "output_type": "stream",
          "name": "stdout",
          "text": [
            "Epoch 1/50 - Loss_train: 1.610   loss_val: 1.122   accuracy_val: 0.798 f1score_val: 0.726   \n",
            "Epoch 2/50 - Loss_train: 1.058   loss_val: 1.047   accuracy_val: 0.856 f1score_val: 0.849   \n",
            "Epoch 3/50 - Loss_train: 0.953   loss_val: 0.951   accuracy_val: 0.960 f1score_val: 0.959   \n",
            "Epoch 4/50 - Loss_train: 0.911   loss_val: 0.966   accuracy_val: 0.942 f1score_val: 0.937   \n",
            "Epoch 5/50 - Loss_train: 0.913   loss_val: 0.990   accuracy_val: 0.921 f1score_val: 0.916   \n",
            "Epoch 6/50 - Loss_train: 0.913   loss_val: 0.988   accuracy_val: 0.919 f1score_val: 0.915   \n",
            "Epoch 7/50 - Loss_train: 0.909   loss_val: 0.982   accuracy_val: 0.926 f1score_val: 0.922   \n",
            "Epoch 8/50 - Loss_train: 0.908   loss_val: 0.976   accuracy_val: 0.928 f1score_val: 0.925   \n",
            "Epoch 9/50 - Loss_train: 0.907   loss_val: 0.970   accuracy_val: 0.930 f1score_val: 0.927   \n",
            "Epoch 10/50 - Loss_train: 0.907   loss_val: 0.965   accuracy_val: 0.939 f1score_val: 0.936   \n",
            "Epoch 11/50 - Loss_train: 0.906   loss_val: 0.961   accuracy_val: 0.948 f1score_val: 0.945   \n",
            "Epoch 12/50 - Loss_train: 0.906   loss_val: 0.958   accuracy_val: 0.951 f1score_val: 0.947   \n",
            "Epoch 13/50 - Loss_train: 0.906   loss_val: 0.956   accuracy_val: 0.955 f1score_val: 0.952   \n",
            "Epoch 14/50 - Loss_train: 0.906   loss_val: 0.954   accuracy_val: 0.955 f1score_val: 0.952   \n",
            "Epoch 15/50 - Loss_train: 0.906   loss_val: 0.953   accuracy_val: 0.953 f1score_val: 0.950   \n",
            "Epoch 16/50 - Loss_train: 0.906   loss_val: 0.953   accuracy_val: 0.953 f1score_val: 0.950   \n",
            "Epoch 17/50 - Loss_train: 0.906   loss_val: 0.953   accuracy_val: 0.953 f1score_val: 0.950   \n",
            "Epoch 18/50 - Loss_train: 0.906   loss_val: 0.953   accuracy_val: 0.953 f1score_val: 0.950   \n",
            "Epoch 19/50 - Loss_train: 0.906   loss_val: 0.953   accuracy_val: 0.953 f1score_val: 0.950   \n",
            "Epoch 20/50 - Loss_train: 0.905   loss_val: 0.953   accuracy_val: 0.951 f1score_val: 0.948   \n",
            "Epoch 21/50 - Loss_train: 0.905   loss_val: 0.952   accuracy_val: 0.948 f1score_val: 0.945   \n",
            "Epoch 22/50 - Loss_train: 0.905   loss_val: 0.952   accuracy_val: 0.951 f1score_val: 0.948   \n",
            "Epoch 23/50 - Loss_train: 0.905   loss_val: 0.952   accuracy_val: 0.953 f1score_val: 0.951   \n",
            "Epoch 24/50 - Loss_train: 0.905   loss_val: 0.952   accuracy_val: 0.953 f1score_val: 0.951   \n",
            "Epoch 25/50 - Loss_train: 0.905   loss_val: 0.952   accuracy_val: 0.951 f1score_val: 0.948   \n",
            "Epoch 26/50 - Loss_train: 0.905   loss_val: 0.952   accuracy_val: 0.951 f1score_val: 0.948   \n",
            "Epoch 27/50 - Loss_train: 0.905   loss_val: 0.952   accuracy_val: 0.953 f1score_val: 0.951   \n",
            "Epoch 28/50 - Loss_train: 0.905   loss_val: 0.953   accuracy_val: 0.953 f1score_val: 0.951   \n",
            "Epoch 29/50 - Loss_train: 0.905   loss_val: 0.953   accuracy_val: 0.951 f1score_val: 0.949   \n",
            "Epoch 30/50 - Loss_train: 0.905   loss_val: 0.953   accuracy_val: 0.951 f1score_val: 0.949   \n",
            "Epoch 31/50 - Loss_train: 0.905   loss_val: 0.953   accuracy_val: 0.951 f1score_val: 0.949   \n",
            "Epoch 32/50 - Loss_train: 0.905   loss_val: 0.953   accuracy_val: 0.951 f1score_val: 0.949   \n",
            "Epoch 33/50 - Loss_train: 0.905   loss_val: 0.953   accuracy_val: 0.951 f1score_val: 0.949   \n",
            "Epoch 34/50 - Loss_train: 0.905   loss_val: 0.953   accuracy_val: 0.951 f1score_val: 0.949   \n",
            "Epoch 35/50 - Loss_train: 0.905   loss_val: 0.953   accuracy_val: 0.951 f1score_val: 0.949   \n",
            "Epoch 36/50 - Loss_train: 0.905   loss_val: 0.953   accuracy_val: 0.951 f1score_val: 0.949   \n",
            "Epoch 37/50 - Loss_train: 0.905   loss_val: 0.953   accuracy_val: 0.951 f1score_val: 0.949   \n",
            "Epoch 38/50 - Loss_train: 0.905   loss_val: 0.953   accuracy_val: 0.951 f1score_val: 0.949   \n",
            "Epoch 39/50 - Loss_train: 0.905   loss_val: 0.953   accuracy_val: 0.951 f1score_val: 0.949   \n",
            "Epoch 40/50 - Loss_train: 0.905   loss_val: 0.953   accuracy_val: 0.951 f1score_val: 0.949   \n",
            "Epoch 41/50 - Loss_train: 0.905   loss_val: 0.953   accuracy_val: 0.951 f1score_val: 0.948   \n",
            "Epoch 42/50 - Loss_train: 0.905   loss_val: 0.953   accuracy_val: 0.951 f1score_val: 0.948   \n",
            "Epoch 43/50 - Loss_train: 0.905   loss_val: 0.952   accuracy_val: 0.951 f1score_val: 0.948   \n",
            "Epoch 44/50 - Loss_train: 0.905   loss_val: 0.952   accuracy_val: 0.951 f1score_val: 0.948   \n",
            "Epoch 45/50 - Loss_train: 0.905   loss_val: 0.952   accuracy_val: 0.951 f1score_val: 0.948   \n",
            "Epoch 46/50 - Loss_train: 0.905   loss_val: 0.952   accuracy_val: 0.951 f1score_val: 0.948   \n",
            "Epoch 47/50 - Loss_train: 0.905   loss_val: 0.952   accuracy_val: 0.951 f1score_val: 0.948   \n",
            "Epoch 48/50 - Loss_train: 0.905   loss_val: 0.952   accuracy_val: 0.953 f1score_val: 0.951   \n",
            "Epoch 49/50 - Loss_train: 0.905   loss_val: 0.952   accuracy_val: 0.953 f1score_val: 0.951   \n",
            "Epoch 50/50 - Loss_train: 0.905   loss_val: 0.952   accuracy_val: 0.951 f1score_val: 0.948   \n"
          ]
        }
      ]
    },
    {
      "cell_type": "code",
      "source": [
        "import matplotlib.pyplot as plt\n",
        "\n",
        "plt.plot(train_err, label='Training Loss')\n",
        "plt.plot(val_err, label='Validation Loss')\n",
        "plt.xlabel('Epoch')\n",
        "plt.ylabel('Loss')\n",
        "plt.legend()\n",
        "plt.show()"
      ],
      "metadata": {
        "colab": {
          "base_uri": "https://localhost:8080/",
          "height": 449
        },
        "id": "3MwzRVyyboM8",
        "outputId": "2a2eefda-d79a-412e-9c0f-cbadd3d31fa2"
      },
      "execution_count": null,
      "outputs": [
        {
          "output_type": "display_data",
          "data": {
            "text/plain": [
              "<Figure size 640x480 with 1 Axes>"
            ],
            "image/png": "[encoded data removed]"
          },
          "metadata": {}
        }
      ]
    },
    {
      "cell_type": "code",
      "source": [
        "with torch.no_grad():\n",
        "    # compute the output\n",
        "    output_test= net(test_x_tensor)\n",
        "\n",
        "    # compute the prediction\n",
        "    predict_test_y= [np.argmax(i.detach().numpy()) for i in output_test]\n",
        "\n",
        "    # Use the \"evaluation_metrics\" function to find accuracy and f1 score\n",
        "    accuracy,f1score=evaluation_metrics(predict_test_y,test_y_tensor)\n",
        "    print('Accuracy_test: %.3f f1score_val: %.3f   '% (accuracy,f1score))"
      ],
      "metadata": {
        "colab": {
          "base_uri": "https://localhost:8080/"
        },
        "id": "7Braxa-fPpBF",
        "outputId": "544f60d6-2cd2-4f65-a319-d571665baf95"
      },
      "execution_count": null,
      "outputs": [
        {
          "output_type": "stream",
          "name": "stdout",
          "text": [
            "Accuracy_test: 0.962 f1score_val: 0.962   \n"
          ]
        }
      ]
    },
    {
      "cell_type": "code",
      "source": [
        "from sklearn.metrics import confusion_matrix, ConfusionMatrixDisplay\n",
        "cm = confusion_matrix(test_y_tensor, predict_test_y, labels=clf.classes_)\n",
        "disp = ConfusionMatrixDisplay(confusion_matrix=cm,display_labels=clf.classes_)\n",
        "disp.plot()\n",
        "plt.show()"
      ],
      "metadata": {
        "colab": {
          "base_uri": "https://localhost:8080/",
          "height": 449
        },
        "id": "FSwfx01rpJb9",
        "outputId": "f2520645-ea8d-41ec-e62b-6e6b28ec0491"
      },
      "execution_count": null,
      "outputs": [
        {
          "output_type": "display_data",
          "data": {
            "text/plain": [
              "<Figure size 640x480 with 2 Axes>"
            ],
            "image/png": "[encoded data removed]"
          },
          "metadata": {}
        }
      ]
    }
  ]
}